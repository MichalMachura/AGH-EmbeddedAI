{
 "cells": [
  {
   "cell_type": "markdown",
   "metadata": {},
   "source": [
    "# Introduction to PyTorch\n",
    "\n",
    "This tutorial shows the basics of PyTorch library.\n",
    "\n",
    "We design simple Neural Networks for classification task on MNIST dataset.\n",
    "\n",
    "Necessary knowledge you can find in PyTorch documentation:\n",
    "\n",
    "https://pytorch.org/docs/stable/index.html\n",
    "\n",
    "and tutorials:\n",
    "\n",
    "https://pytorch.org/tutorials/beginner/basics/quickstart_tutorial.html"
   ]
  },
  {
   "cell_type": "code",
   "execution_count": null,
   "metadata": {},
   "outputs": [],
   "source": [
    "!mkdir data"
   ]
  },
  {
   "cell_type": "markdown",
   "metadata": {},
   "source": [
    "1. PyTorch is based on tensor operations.\n",
    "Please create tensors in the following ways:\n",
    "- directly with python list\n",
    "- from `numpy`\n",
    "- with random values (initialize generator with your academic id / student number from USOS system)\n",
    "- linear space in range from -5 to 15 and number of elements.\n",
    "- 3 tensors with indices of each element of grid for dimensions: 1, 2, 3 (without 0-th - basically is a batch dim)\n",
    "\n",
    "For all cases use `shape = (1, 3, 28, 28)`.\n",
    "\n",
    "For display use `print` function."
   ]
  },
  {
   "cell_type": "code",
   "execution_count": 1,
   "metadata": {},
   "outputs": [],
   "source": [
    "import torch\n",
    "t = ..."
   ]
  },
  {
   "cell_type": "markdown",
   "metadata": {},
   "source": [
    "2. PyTorch allow for applying GPU for computations.\n",
    "Check is gpu (CUDA) is available, then use it as `device`, else use `'cpu'`."
   ]
  },
  {
   "cell_type": "code",
   "execution_count": 4,
   "metadata": {},
   "outputs": [],
   "source": [
    "device = ..."
   ]
  },
  {
   "cell_type": "markdown",
   "metadata": {},
   "source": [
    "3. To train a networks we need a dataset. \n",
    "\n",
    "Please download `MINIST` dataset with `torchvision.dataset`.\n",
    "\n",
    "For any kind of ML task, validation or testing is required.\n",
    "\n",
    "So, create train and test datasets.\n",
    "\n",
    "For train dataset apply also augmentation transforms, crop, translation and rotation.\n",
    "\n",
    "You can try to apply different transforms.\n",
    "\n",
    "For both apply ToTensor.\n",
    "\n",
    "Next, pack datasets into `DataLoader`s with batch size of 64.\n",
    "Use variables with names: `train_loader` and `test_loader`. \n",
    "\n",
    "Next display sizes of datasets, shapes of elements and display few images and their labels."
   ]
  },
  {
   "cell_type": "code",
   "execution_count": 27,
   "metadata": {},
   "outputs": [
    {
     "name": "stderr",
     "output_type": "stream",
     "text": [
      "938it [00:05, 179.55it/s]\n"
     ]
    }
   ],
   "source": [
    "import torch\n",
    "from torch.utils.data import DataLoader\n",
    "from torchvision import datasets\n",
    "from torchvision.transforms import ToTensor\n",
    "import matplotlib.pyplot as plt\n",
    "\n",
    "\n",
    "...\n",
    "\n",
    "train_loader = ...\n",
    "test_loader = ...\n"
   ]
  },
  {
   "cell_type": "markdown",
   "metadata": {},
   "source": [
    "4. `*`Additionally, you can prepare analysis of datasets. \n",
    "\n",
    "E.g. statistics like mean and variance of all elements, for each label.\n",
    "\n",
    "Analysis can allow you for designing better network architecture.   "
   ]
  },
  {
   "cell_type": "code",
   "execution_count": null,
   "metadata": {},
   "outputs": [],
   "source": []
  },
  {
   "cell_type": "markdown",
   "metadata": {},
   "source": [
    "5. When we have datasets, so we can create model for classification task.\n",
    "\n",
    "Please, define class `MLP` as Multi Layer Perceptron \n",
    "\n",
    "with two hidden fully connected layers with bias.\n",
    "\n",
    "Class must inherits from `torch.nn.Module`.\n",
    "\n",
    "Apply following configuration:\n",
    "\n",
    "- first with 512 neurons,\n",
    "- second with 512 neurons,\n",
    "- output layer adjust to size of classification problem.\n",
    "\n",
    "For `__init__` method add parameters: input_shape and output_size.\n",
    "\n",
    "Don't forget about nonlinearities! \n",
    "\n",
    "For hidden layers you can use `ReLU` module from `torch.nn`.\n",
    "\n",
    "For output apply softmax function.\n",
    "\n",
    "Network layer-by-layer processing define in `forward` method with argument as a network \n",
    "\n",
    "input tensor - batch of images with shape (batch_size, channels, height, width).\n",
    "(channels = 1, for gray scale images)\n",
    "\n",
    "Instantiate model as `net` object.\n"
   ]
  },
  {
   "cell_type": "code",
   "execution_count": null,
   "metadata": {},
   "outputs": [],
   "source": [
    "\n",
    "class MLP(...):\n",
    "\n",
    "    def __init__(self, ) -> None:\n",
    "        super().__init__()\n",
    "        \n",
    "    def forward(sefl, x: torch.Tensor) -> torch.Tensor:\n",
    "        pass\n",
    "\n",
    "\n",
    "net = ..."
   ]
  },
  {
   "cell_type": "markdown",
   "metadata": {},
   "source": [
    "6. To train network we need to know 'how good or bad' results it gives.\n",
    "Please, instantiate `torch.nn.CrossEntropyLoss` as `loss_fcn`."
   ]
  },
  {
   "cell_type": "code",
   "execution_count": null,
   "metadata": {},
   "outputs": [],
   "source": []
  },
  {
   "cell_type": "markdown",
   "metadata": {},
   "source": [
    "7. To score network define accuracy metric.\n",
    "For network output you need to decide what is the final network answer.\n",
    "(`argmax`).\n",
    "\n",
    "`torch.no_grad()` prevents gradient requirement for computations inside method."
   ]
  },
  {
   "cell_type": "code",
   "execution_count": 24,
   "metadata": {},
   "outputs": [],
   "source": [
    "from abc import ABC, abstractmethod\n",
    "from typing import Any\n",
    "\n",
    "\n",
    "class BaseMetic(ABC):\n",
    "\n",
    "    @abstractmethod\n",
    "    def __call__(self, y_pred, y_ref) -> Any:\n",
    "        raise NotImplementedError()    \n",
    "    \n",
    "    \n",
    "class AccuracyMetic(BaseMetic):\n",
    "\n",
    "    def __init__(self) -> None:\n",
    "        pass\n",
    "    \n",
    "    @torch.no_grad()\n",
    "    def __call__(self, y_pred: torch.Tensor, y_ref: torch.Tensor) -> torch.Tensor:\n",
    "        \"\"\"\n",
    "        :param y_pred: tensor of shape (batch_size, num_of_classes) type float\n",
    "        :param y_ref: tensor with shape (batch_size,) and type Long\n",
    "        :return: scalar tensor with accuracy metric for batch\n",
    "        \"\"\"\n",
    "        # scalar value\n",
    "        score: torch.Tensor = ...\n",
    "        \n",
    "        return score\n",
    "\n",
    "\n",
    "metric = AccuracyMetic()"
   ]
  },
  {
   "cell_type": "markdown",
   "metadata": {},
   "source": [
    "8. To change network parameters, we need optimizers object.\n",
    "Instantiate `torch.optim.SGD` (with `net`work parameters) as `optimizer`.\n",
    "Use learning rate = 0.001"
   ]
  },
  {
   "cell_type": "code",
   "execution_count": 17,
   "metadata": {},
   "outputs": [],
   "source": [
    "optimizer = ..."
   ]
  },
  {
   "cell_type": "markdown",
   "metadata": {},
   "source": [
    "9. Now define training / testing function:"
   ]
  },
  {
   "cell_type": "code",
   "execution_count": null,
   "metadata": {},
   "outputs": [],
   "source": [
    "from typing import Tuple\n",
    "import tqdm\n",
    "\n",
    "\n",
    "def train(model, \n",
    "          data_generator, \n",
    "          criterion, \n",
    "          metric: BaseMetic,\n",
    "          mode: str = 'test',\n",
    "          optimizer: torch.optim.Optimizer = None, \n",
    "          update_period: int = None,\n",
    "          device = torch.device('cpu')) -> Tuple[torch.nn.Module, float, float]:\n",
    "    \n",
    "    # change model mode to train or test\n",
    "    if mode == 'train':\n",
    "        ...\n",
    "        \n",
    "    elif mode == 'test':\n",
    "        ...\n",
    "        \n",
    "    else:\n",
    "        raise RuntimeError(\"Unsupported mode.\")\n",
    "\n",
    "    # move model to device\n",
    "    \n",
    "    # reset model parameters' gradients with optimizer\n",
    "    if mode == 'train':\n",
    "        ...\n",
    "    \n",
    "    total_loss = 0.0\n",
    "    total_accuracy = 0.0\n",
    "    samples_num = 0\n",
    "    \n",
    "    for i, (X, y) in tqdm.tqdm(enumerate(data_generator)):\n",
    "        # convert tensors to device\n",
    "        ...\n",
    "        \n",
    "        # depending on mode use or not torch.no_grad() as 'with' block\n",
    "        ...\n",
    "        \n",
    "        # process by network\n",
    "        y_pred = ...\n",
    "        \n",
    "        # calculate loss\n",
    "        loss = ...\n",
    "        \n",
    "        # designate gradient based on loss\n",
    "        ...\n",
    "        \n",
    "        if mode == 'train' and (i+1) % update_period == 0:\n",
    "            # update parameters with optimizer\n",
    "            ...\n",
    "        \n",
    "        # calculate accuracy\n",
    "        accuracy = ...\n",
    "        \n",
    "        total_loss += loss.item() * y_pred.shape[0]\n",
    "        total_accuracy += accuracy.item() * y_pred.shape[0]\n",
    "        samples_num += y_pred.shape[0]\n",
    "    \n",
    "    if samples_num == 0:\n",
    "        return model, 0.0, 0.0\n",
    "    \n",
    "    return model, total_loss / samples_num, total_accuracy / samples_num"
   ]
  },
  {
   "cell_type": "markdown",
   "metadata": {},
   "source": [
    "10. Prepare training loop (over epochs) function:\n",
    "- adjust max number of epochs to achieve satisfactory results.\n",
    "- `**` additionally, implement auto-detection of bias-variance tradeoff point, to break further training.\n",
    "- `***` additionally, use learning rate scheduler.\n",
    "- for each epoch collect losses and accuracies for both datasets."
   ]
  },
  {
   "cell_type": "code",
   "execution_count": null,
   "metadata": {},
   "outputs": [],
   "source": [
    "..."
   ]
  },
  {
   "cell_type": "markdown",
   "metadata": {},
   "source": [
    "11. Display training history. "
   ]
  },
  {
   "cell_type": "code",
   "execution_count": null,
   "metadata": {},
   "outputs": [],
   "source": []
  },
  {
   "cell_type": "markdown",
   "metadata": {},
   "source": [
    "12. Save model and optimizer states to files.\n",
    "\n",
    "Use method `state_dict` and function `torch.save`."
   ]
  },
  {
   "cell_type": "code",
   "execution_count": null,
   "metadata": {},
   "outputs": [],
   "source": [
    "..."
   ]
  },
  {
   "cell_type": "markdown",
   "metadata": {},
   "source": [
    "13. Create new network with the same architecture and initialize it with saved weights.\n",
    "\n",
    "`torch.load`, `load_state_dict`."
   ]
  },
  {
   "cell_type": "code",
   "execution_count": null,
   "metadata": {},
   "outputs": [],
   "source": [
    "net2 = ...\n",
    "..."
   ]
  },
  {
   "cell_type": "markdown",
   "metadata": {},
   "source": [
    "14. Define your own model and train it.\n",
    "\n",
    "Try achieve better results.\n",
    "\n",
    "You can use different parameters, layers e.g.:\n",
    "- conv2d\n",
    "- maxpooling2d\n",
    "- batch norm 2d\n",
    "- and more...\n",
    "\n",
    "Save weights to file."
   ]
  },
  {
   "cell_type": "code",
   "execution_count": null,
   "metadata": {},
   "outputs": [],
   "source": [
    "..."
   ]
  },
  {
   "cell_type": "markdown",
   "metadata": {},
   "source": [
    "15. You can leave a feedback, if you want :)"
   ]
  },
  {
   "cell_type": "markdown",
   "metadata": {},
   "source": []
  },
  {
   "cell_type": "markdown",
   "metadata": {},
   "source": [
    "16. Send your results(notebook+weights) in a *.zip file by e-mail \n",
    "\n",
    "or (preferred) send link to your's github (public) repository with your results."
   ]
  },
  {
   "cell_type": "markdown",
   "metadata": {},
   "source": []
  }
 ],
 "metadata": {
  "kernelspec": {
   "display_name": "Python 3.8.10 64-bit",
   "language": "python",
   "name": "python3"
  },
  "language_info": {
   "codemirror_mode": {
    "name": "ipython",
    "version": 3
   },
   "file_extension": ".py",
   "mimetype": "text/x-python",
   "name": "python",
   "nbconvert_exporter": "python",
   "pygments_lexer": "ipython3",
   "version": "3.8.10"
  },
  "orig_nbformat": 4,
  "vscode": {
   "interpreter": {
    "hash": "e7370f93d1d0cde622a1f8e1c04877d8463912d04d973331ad4851f04de6915a"
   }
  }
 },
 "nbformat": 4,
 "nbformat_minor": 2
}
