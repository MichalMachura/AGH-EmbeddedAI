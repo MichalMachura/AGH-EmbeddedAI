{
 "cells": [
  {
   "attachments": {},
   "cell_type": "markdown",
   "metadata": {},
   "source": [
    "AMD Xilinx Vitis AI, besides of quantization and compilation, allows for network acceleration.\n",
    "\n",
    "VAI uses Deep learning Processor Unit (DPU) -  general purpose accelerator with sequential execution of network layers*.\n",
    "\n",
    "\n",
    "Apart of DPU, VAI delivers Vitis AI Runtime (VART) library as drivers of accelerator.\n",
    "\n",
    "Additional component is PYNQ library.\n",
    "\n",
    "It allows for control of FPGA's hardware part and communication with custom hardware components.\n",
    "\n",
    "Extension of PYNQ and VART is PYNQ-DPU.\n",
    "\n",
    "It's a python package that simplifies control of acceleration process.\n",
    "\n",
    "\n",
    "The whole acceleration is based on scheme:\n",
    "- write data to input buffers,\n",
    "- prepare output buffers,\n",
    "- send data to accelerator,\n",
    "- wait for finish of acceleration,\n",
    "- read the output buffer.\n",
    "\n",
    "\n",
    "* There is possible to instantiate more DPUs in FPGA. \n",
    "\n",
    "That allows for higher parallelism and non sequential processing or coarse-grained processing.\n",
    "   "
   ]
  },
  {
   "attachments": {},
   "cell_type": "markdown",
   "metadata": {},
   "source": [
    "References:\n",
    "\n",
    "https://pytorch.org/\n",
    "\n",
    "https://pytorch.org/\n",
    "\n",
    "https://github.com/Xilinx/DPU-PYNQ\n",
    "\n",
    "http://www.pynq.io/\n",
    "\n",
    "https://www.mdpi.com/2079-9268/12/2/30"
   ]
  },
  {
   "attachments": {},
   "cell_type": "markdown",
   "metadata": {},
   "source": [
    "To connect with a KRIA KV260 board - System on Module \n",
    "\n",
    "(includes many interfaces for external devices, \n",
    " \n",
    " but main module contains ARM CPUs, FPGA and more...):\n",
    "1. Connect power supplier to the board and to the wall socket.\n",
    "2. Wait around 1 minute for full boot of Ubuntu 20.04 OS.\n",
    "3. Connect ethernet cable between PC and KRIA KV260.\n",
    "4. Enter in the browser address http://10.42.0.47:9090/tree/eAI\n",
    "5. Login to the Jupyter server.\n",
    "6. Copy your `notebook_kria_evaluation.ipynb` to directory `/eAI`.\n",
    "\n",
    "Notes:\n",
    "\n",
    "- You can try connect your local notebook with Jupyter server on the KRIA board through the VS Code.\n",
    "\n",
    "- You can implement most of the required functionalities on the Host device\n",
    "and only part of them execute on the KRIA.       "
   ]
  },
  {
   "attachments": {},
   "cell_type": "markdown",
   "metadata": {},
   "source": [
    "address: http://10.42.0.47:9090/tree/eAI\n",
    "\n",
    "OS login:\n",
    "- user: `ubuntu`\n",
    "- password: `Xilinx123`\n",
    "\n",
    "Jupyter:\n",
    "- login: `xilinx`\n",
    "- password: `xilinx`\n"
   ]
  },
  {
   "cell_type": "code",
   "execution_count": 21,
   "metadata": {
    "vscode": {
     "languageId": "python"
    }
   },
   "outputs": [],
   "source": []
  },
  {
   "cell_type": "code",
   "execution_count": null,
   "metadata": {
    "vscode": {
     "languageId": "python"
    }
   },
   "outputs": [],
   "source": []
  }
 ],
 "metadata": {
  "kernelspec": {
   "display_name": "Python 3 (ipykernel)",
   "language": "python",
   "name": "python3"
  },
  "orig_nbformat": 4,
  "vscode": {
   "interpreter": {
    "hash": "e7370f93d1d0cde622a1f8e1c04877d8463912d04d973331ad4851f04de6915a"
   }
  }
 },
 "nbformat": 4,
 "nbformat_minor": 2
}
