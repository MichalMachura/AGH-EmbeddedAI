{
 "cells": [
  {
   "cell_type": "markdown",
   "metadata": {},
   "source": [
    "# Introduction to PyTorch\n",
    "\n",
    "This tutorial shows the basics of PyTorch library.\n",
    "\n",
    "We design simple Neural Networks for classification task on MNIST dataset.\n",
    "\n",
    "Necessary knowledge you can find in PyTorch documentation:\n",
    "\n",
    "https://pytorch.org/docs/stable/index.html\n",
    "\n",
    "and tutorials:\n",
    "\n",
    "https://pytorch.org/tutorials/beginner/basics/quickstart_tutorial.html\n",
    "\n",
    "Of course you can use also Google ;)\n",
    "\n",
    "https://github.com/MichalMachura/AGH-EmbeddedAI"
   ]
  },
  {
   "cell_type": "code",
   "execution_count": 1,
   "metadata": {},
   "outputs": [
    {
     "name": "stdout",
     "output_type": "stream",
     "text": [
      "mkdir: cannot create directory ‘data’: File exists\n"
     ]
    }
   ],
   "source": [
    "!mkdir data"
   ]
  },
  {
   "cell_type": "markdown",
   "metadata": {},
   "source": [
    "1. PyTorch is based on tensor operations.\n",
    "\n",
    "Please create tensors in the following ways:\n",
    "(for all cases use `shape = (1, 3, 28, 28)` - (batch_size, channels, height, width).)\n",
    "\n",
    "a) directly with python list (with any shape) - \n",
    "\n",
    "b) based on numpy array with `shape` - `torch.from_numpy`\n",
    "\n",
    "c) with random values (initialize generator with your academic id / student number from USOS system) -\n",
    "\n",
    "`torch.manual_seed`,`torch.rand`\n",
    "\n",
    "d) linear space in range from -5 to 15 and number of elements to achieve `shape` - `torch.linspace`\n",
    "\n",
    "e) 3 tensors (`x1,x2,x2`) with indices of each element of grid for dimensions: 1, 2, 3 (without 0-th - basically it's a batch dimension) - `torch.meshgrid`\n",
    "\n",
    "For display use `print` function."
   ]
  },
  {
   "cell_type": "code",
   "execution_count": 2,
   "metadata": {},
   "outputs": [
    {
     "name": "stdout",
     "output_type": "stream",
     "text": [
      "Tensor crated with python list:\n",
      "tensor([3243.3999,   44.2000, 4242.3999])\n",
      "Tensor crated from numpy array:\n",
      "tensor([[[[6.1994e-02, 5.2266e-01, 5.1964e-02, 9.0722e-01, 9.9189e-01,\n",
      "           7.4174e-01, 4.7657e-01],\n",
      "          [8.5300e-01, 2.7969e-01, 9.8429e-01, 8.5806e-01, 9.0857e-01,\n",
      "           3.0117e-01, 9.0791e-01],\n",
      "          [2.9248e-01, 9.1552e-01, 7.3535e-01, 9.7008e-01, 3.1005e-01,\n",
      "           8.8035e-01, 1.6735e-01],\n",
      "          [5.3547e-01, 3.0460e-02, 1.8167e-01, 1.1739e-01, 5.3739e-01,\n",
      "           3.7609e-01, 4.6034e-03]],\n",
      "\n",
      "         [[5.6198e-01, 4.6703e-02, 9.8283e-01, 5.8463e-01, 5.6803e-01,\n",
      "           4.8234e-01, 4.2781e-01],\n",
      "          [3.7592e-01, 8.4424e-01, 1.3184e-01, 3.5817e-01, 1.6569e-01,\n",
      "           2.5399e-01, 4.4909e-01],\n",
      "          [1.4242e-01, 3.7306e-01, 4.2029e-01, 3.6517e-01, 2.9192e-02,\n",
      "           1.7943e-01, 4.7154e-01],\n",
      "          [7.8978e-01, 9.5465e-01, 3.2802e-04, 9.0928e-01, 2.1660e-01,\n",
      "           2.8856e-02, 6.6137e-01]]]], dtype=torch.float64)\n",
      "Tensor crated with random values initialized with manual seed:\n",
      "tensor([[[[0.3603, 0.5803, 0.7111, 0.7632, 0.1599, 0.3880, 0.1118],\n",
      "          [0.9534, 0.2768, 0.7331, 0.3257, 0.2287, 0.8368, 0.2037],\n",
      "          [0.9711, 0.7616, 0.5664, 0.7695, 0.3413, 0.7131, 0.2655],\n",
      "          [0.0794, 0.7343, 0.5717, 0.3898, 0.6993, 0.8263, 0.5473]],\n",
      "\n",
      "         [[0.7178, 0.9979, 0.0915, 0.6999, 0.0713, 0.3019, 0.7620],\n",
      "          [0.3491, 0.3686, 0.6547, 0.9290, 0.5534, 0.8820, 0.4363],\n",
      "          [0.6663, 0.5300, 0.0093, 0.4551, 0.1967, 0.9404, 0.6336],\n",
      "          [0.4734, 0.9438, 0.4437, 0.0604, 0.0546, 0.8375, 0.7031]]]])\n",
      "Tensor crated with linear space between -5 and 15 for num of elem. designated for shape:\n",
      "tensor([[[[-5.0000, -4.6364, -4.2727, -3.9091, -3.5455, -3.1818, -2.8182],\n",
      "          [-2.4545, -2.0909, -1.7273, -1.3636, -1.0000, -0.6364, -0.2727],\n",
      "          [ 0.0909,  0.4545,  0.8182,  1.1818,  1.5455,  1.9091,  2.2727],\n",
      "          [ 2.6364,  3.0000,  3.3636,  3.7273,  4.0909,  4.4545,  4.8182]],\n",
      "\n",
      "         [[ 5.1818,  5.5455,  5.9091,  6.2727,  6.6364,  7.0000,  7.3636],\n",
      "          [ 7.7273,  8.0909,  8.4545,  8.8182,  9.1818,  9.5455,  9.9091],\n",
      "          [10.2727, 10.6364, 11.0000, 11.3636, 11.7273, 12.0909, 12.4545],\n",
      "          [12.8182, 13.1818, 13.5455, 13.9091, 14.2727, 14.6364, 15.0000]]]])\n",
      "Tensors crated as mesh grid - indices of elements:\n",
      "Index for dim = 0:\n",
      "tensor([[[[0, 0, 0, 0, 0, 0, 0],\n",
      "          [0, 0, 0, 0, 0, 0, 0],\n",
      "          [0, 0, 0, 0, 0, 0, 0],\n",
      "          [0, 0, 0, 0, 0, 0, 0]],\n",
      "\n",
      "         [[0, 0, 0, 0, 0, 0, 0],\n",
      "          [0, 0, 0, 0, 0, 0, 0],\n",
      "          [0, 0, 0, 0, 0, 0, 0],\n",
      "          [0, 0, 0, 0, 0, 0, 0]]]])\n",
      "Index for dim = 1:\n",
      "tensor([[[[0, 0, 0, 0, 0, 0, 0],\n",
      "          [0, 0, 0, 0, 0, 0, 0],\n",
      "          [0, 0, 0, 0, 0, 0, 0],\n",
      "          [0, 0, 0, 0, 0, 0, 0]],\n",
      "\n",
      "         [[1, 1, 1, 1, 1, 1, 1],\n",
      "          [1, 1, 1, 1, 1, 1, 1],\n",
      "          [1, 1, 1, 1, 1, 1, 1],\n",
      "          [1, 1, 1, 1, 1, 1, 1]]]])\n",
      "Index for dim = 2:\n",
      "tensor([[[[0, 0, 0, 0, 0, 0, 0],\n",
      "          [1, 1, 1, 1, 1, 1, 1],\n",
      "          [2, 2, 2, 2, 2, 2, 2],\n",
      "          [3, 3, 3, 3, 3, 3, 3]],\n",
      "\n",
      "         [[0, 0, 0, 0, 0, 0, 0],\n",
      "          [1, 1, 1, 1, 1, 1, 1],\n",
      "          [2, 2, 2, 2, 2, 2, 2],\n",
      "          [3, 3, 3, 3, 3, 3, 3]]]])\n",
      "Index for dim = 3:\n",
      "tensor([[[[0, 1, 2, 3, 4, 5, 6],\n",
      "          [0, 1, 2, 3, 4, 5, 6],\n",
      "          [0, 1, 2, 3, 4, 5, 6],\n",
      "          [0, 1, 2, 3, 4, 5, 6]],\n",
      "\n",
      "         [[0, 1, 2, 3, 4, 5, 6],\n",
      "          [0, 1, 2, 3, 4, 5, 6],\n",
      "          [0, 1, 2, 3, 4, 5, 6],\n",
      "          [0, 1, 2, 3, 4, 5, 6]]]])\n",
      "Tensors crated with torch.zeros:\n",
      "tensor([[[[0., 0., 0., 0., 0., 0., 0.],\n",
      "          [0., 0., 0., 0., 0., 0., 0.],\n",
      "          [0., 0., 0., 0., 0., 0., 0.],\n",
      "          [0., 0., 0., 0., 0., 0., 0.]],\n",
      "\n",
      "         [[0., 0., 0., 0., 0., 0., 0.],\n",
      "          [0., 0., 0., 0., 0., 0., 0.],\n",
      "          [0., 0., 0., 0., 0., 0., 0.],\n",
      "          [0., 0., 0., 0., 0., 0., 0.]]]])\n",
      "is pinned = True\n",
      "device = cpu\n",
      "Tensors crated with torch.zeros_like:\n",
      "tensor([[[[0., 0., 0., 0., 0., 0., 0.],\n",
      "          [0., 0., 0., 0., 0., 0., 0.],\n",
      "          [0., 0., 0., 0., 0., 0., 0.],\n",
      "          [0., 0., 0., 0., 0., 0., 0.]],\n",
      "\n",
      "         [[0., 0., 0., 0., 0., 0., 0.],\n",
      "          [0., 0., 0., 0., 0., 0., 0.],\n",
      "          [0., 0., 0., 0., 0., 0., 0.],\n",
      "          [0., 0., 0., 0., 0., 0., 0.]]]])\n",
      "is pinned = False\n",
      "device = cpu\n",
      "Tensors transferred to cuda device:\n",
      "tensor([[[[0., 0., 0., 0., 0., 0., 0.],\n",
      "          [0., 0., 0., 0., 0., 0., 0.],\n",
      "          [0., 0., 0., 0., 0., 0., 0.],\n",
      "          [0., 0., 0., 0., 0., 0., 0.]],\n",
      "\n",
      "         [[0., 0., 0., 0., 0., 0., 0.],\n",
      "          [0., 0., 0., 0., 0., 0., 0.],\n",
      "          [0., 0., 0., 0., 0., 0., 0.],\n",
      "          [0., 0., 0., 0., 0., 0., 0.]]]], device='cuda:0')\n",
      "is pinned = False\n"
     ]
    }
   ],
   "source": [
    "import torch\n",
    "import numpy as np\n",
    "\n",
    "# shape = (1,3,28,28)\n",
    "# shape changed for better visualization\n",
    "shape = (1,2,4,7)\n",
    "\n",
    "# a\n",
    "print(\"Tensor crated with python list:\")\n",
    "t = torch.tensor([3243.4, 44.2, 4242.4], dtype=torch.float32)\n",
    "print(t)\n",
    "# b\n",
    "print(\"Tensor crated from numpy array:\")\n",
    "a = np.random.rand(*shape)\n",
    "t = torch.from_numpy(a)\n",
    "print(t)\n",
    "# c\n",
    "print(\"Tensor crated with random values initialized with manual seed:\")\n",
    "torch.manual_seed(43543)\n",
    "t = torch.rand(shape)\n",
    "print(t)\n",
    "# d\n",
    "print(\"Tensor crated with linear space between -5 and 15 for num of elem. designated for shape:\")\n",
    "t = torch.linspace(-5,15, shape[0]*shape[1]*shape[2]*shape[3]).reshape(shape)\n",
    "print(t)\n",
    "# e\n",
    "print(\"Tensors crated as mesh grid - indices of elements:\")\n",
    "x0 = torch.arange(shape[0])\n",
    "x1 = torch.arange(shape[1])\n",
    "x2 = torch.arange(shape[2])\n",
    "x3 = torch.arange(shape[3])\n",
    "x0, x1, x2, x3 = torch.meshgrid(x0,x1,x2,x3,indexing='ij')\n",
    "print(\"Index for dim = 0:\")\n",
    "print(x0)\n",
    "print(\"Index for dim = 1:\")\n",
    "print(x1)\n",
    "print(\"Index for dim = 2:\")\n",
    "print(x2)\n",
    "print(\"Index for dim = 3:\")\n",
    "print(x3)\n",
    "\n",
    "# f - create tensor of zeros\n",
    "print(\"Tensors crated with torch.zeros:\")\n",
    "t = torch.zeros(shape,  #  size / shape of tensor  \n",
    "                dtype=torch.float32,  # data type\n",
    "                device=torch.device('cpu'),  #  device where tensor will be stored \n",
    "                pin_memory=True, # True allocates tensor in pinned memory (in memory pages stored in RAM, \n",
    "                                 # not in hard disc). That allows for efficient data transfer from global RAM to GPU RAM \n",
    "                )\n",
    "print(t)\n",
    "print(\"is pinned =\",t.is_pinned())\n",
    "print(\"device =\",t.device)\n",
    "# g - create tensor the same like other tensor\n",
    "print(\"Tensors crated with torch.zeros_like:\")\n",
    "t = torch.zeros_like(t,\n",
    "                    #  pin_memory=True, # by default copy is stored in non pinned memory\n",
    "                     )\n",
    "print(t)\n",
    "print(\"is pinned =\",t.is_pinned())\n",
    "print(\"device =\",t.device)\n",
    "\n",
    "# there are function similar to `zeros\n",
    "# torch.ones, torch.ones_like, - fill with ones\n",
    "# torch.empty, torch.empty_like - non initialized tensors - with 'garbages'\n",
    "\n",
    "# h  transfer tensor to device\n",
    "print(\"Tensors transferred to cuda device:\")\n",
    "t = t.to(device=torch.device('cuda'))\n",
    "print(t)\n",
    "print(\"is pinned =\",t.is_pinned()) # for cuda it gives false, because pinned can be only general/global RAM memory"
   ]
  },
  {
   "cell_type": "markdown",
   "metadata": {},
   "source": [
    "2. PyTorch allow for applying GPU for computations.\n",
    "Check if gpu (CUDA) is available, then use it as `device`, else use `'cpu'`."
   ]
  },
  {
   "cell_type": "code",
   "execution_count": 3,
   "metadata": {},
   "outputs": [
    {
     "name": "stdout",
     "output_type": "stream",
     "text": [
      "cuda\n",
      "tensor([43, 43], device='cuda:0')\n"
     ]
    }
   ],
   "source": [
    "device = torch.device('cuda') if torch.cuda.is_available() else torch.device('cpu')\n",
    "print(device)\n",
    "t = torch.tensor([43,43], device=device)\n",
    "print(t)"
   ]
  },
  {
   "cell_type": "markdown",
   "metadata": {},
   "source": [
    "3. To train a networks we need a dataset. \n",
    "\n",
    "Please download `MINIST` dataset with `torchvision.dataset`.\n",
    "\n",
    "For any kind of ML tasks, validation and/or testing is required.\n",
    "\n",
    "So, create train and test datasets.\n",
    "\n",
    "For train dataset apply also augmentation transforms, crop, translation and rotation.\n",
    "\n",
    "You can try to apply different transforms.\n",
    "\n",
    "For both apply ToTensor.\n",
    "\n",
    "Next, pack datasets into `DataLoader`s with batch size of 64.\n",
    "Use variables with names: `train_loader` and `test_loader`. \n",
    "\n",
    "Next display sizes of datasets, shapes of elements and display few images (`plt.gray()`,`plt.imshow()`) and their labels."
   ]
  },
  {
   "cell_type": "code",
   "execution_count": 4,
   "metadata": {},
   "outputs": [
    {
     "name": "stdout",
     "output_type": "stream",
     "text": [
      "len(train_loader) = 938\n",
      "len(test_loader) = 157\n",
      "torch.Size([64, 1, 28, 28])\n",
      "torch.Size([64])\n"
     ]
    },
    {
     "data": {
      "text/plain": [
       "<Figure size 432x288 with 0 Axes>"
      ]
     },
     "metadata": {},
     "output_type": "display_data"
    },
    {
     "data": {
      "image/png": "[encoded data removed]",
      "text/plain": [
       "<Figure size 432x288 with 2 Axes>"
      ]
     },
     "metadata": {
      "needs_background": "light"
     },
     "output_type": "display_data"
    },
    {
     "data": {
      "image/png": "[encoded data removed]",
      "text/plain": [
       "<Figure size 432x288 with 2 Axes>"
      ]
     },
     "metadata": {
      "needs_background": "light"
     },
     "output_type": "display_data"
    },
    {
     "data": {
      "image/png": "[encoded data removed]",
      "text/plain": [
       "<Figure size 432x288 with 2 Axes>"
      ]
     },
     "metadata": {
      "needs_background": "light"
     },
     "output_type": "display_data"
    },
    {
     "data": {
      "image/png": "[encoded data removed]",
      "text/plain": [
       "<Figure size 432x288 with 2 Axes>"
      ]
     },
     "metadata": {
      "needs_background": "light"
     },
     "output_type": "display_data"
    },
    {
     "data": {
      "image/png": "[encoded data removed]",
      "text/plain": [
       "<Figure size 432x288 with 2 Axes>"
      ]
     },
     "metadata": {
      "needs_background": "light"
     },
     "output_type": "display_data"
    },
    {
     "data": {
      "image/png": "[encoded data removed]",
      "text/plain": [
       "<Figure size 432x288 with 2 Axes>"
      ]
     },
     "metadata": {
      "needs_background": "light"
     },
     "output_type": "display_data"
    },
    {
     "data": {
      "image/png": "[encoded data removed]",
      "text/plain": [
       "<Figure size 432x288 with 2 Axes>"
      ]
     },
     "metadata": {
      "needs_background": "light"
     },
     "output_type": "display_data"
    },
    {
     "data": {
      "image/png": "[encoded data removed]",
      "text/plain": [
       "<Figure size 432x288 with 2 Axes>"
      ]
     },
     "metadata": {
      "needs_background": "light"
     },
     "output_type": "display_data"
    },
    {
     "data": {
      "image/png": "[encoded data removed]",
      "text/plain": [
       "<Figure size 432x288 with 2 Axes>"
      ]
     },
     "metadata": {
      "needs_background": "light"
     },
     "output_type": "display_data"
    },
    {
     "data": {
      "image/png": "[encoded data removed]",
      "text/plain": [
       "<Figure size 432x288 with 2 Axes>"
      ]
     },
     "metadata": {
      "needs_background": "light"
     },
     "output_type": "display_data"
    }
   ],
   "source": [
    "import torch\n",
    "from torch.utils.data import DataLoader\n",
    "from torchvision import datasets\n",
    "from torchvision.transforms import ToTensor, RandomRotation\n",
    "import matplotlib.pyplot as plt\n",
    "\n",
    "train_dataset = datasets.MNIST('data', \n",
    "                              train=True,\n",
    "                              download=True,\n",
    "                              transform=ToTensor())\n",
    "test_dataset = datasets.MNIST('data', \n",
    "                              train=False,\n",
    "                              download=True,\n",
    "                              transform=ToTensor())\n",
    "\n",
    "train_loader = DataLoader(train_dataset, \n",
    "                          batch_size=64,\n",
    "                          shuffle=True)\n",
    "test_loader = DataLoader(test_dataset, \n",
    "                          batch_size=64,\n",
    "                          shuffle=False)\n",
    "\n",
    "print(\"len(train_loader) =\", len(train_loader))\n",
    "print(\"len(test_loader) =\", len(test_loader))\n",
    "\n",
    "plt.gray()\n",
    "for X, y in train_loader:\n",
    "    print(X.shape)\n",
    "    print(y.shape)\n",
    "    \n",
    "    for i, img in enumerate(X[:10,...]):\n",
    "        class_label = train_loader.dataset.classes[y[i]]\n",
    "        \n",
    "        fig, (ax1, ax2) = plt.subplots(1, 2)\n",
    "        \n",
    "        # display single channel array as 2d map\n",
    "        plt.title(class_label)\n",
    "        ax1.imshow(img[0,...])\n",
    "        \n",
    "        # 3d map convert to channel last convention\n",
    "        img = img.permute(1,2,0) # <- change dimensions' order\n",
    "        ax2.imshow(img)\n",
    "            \n",
    "    break\n",
    "        "
   ]
  },
  {
   "cell_type": "markdown",
   "metadata": {},
   "source": [
    "4. `*`Additionally, you can prepare analysis of datasets. \n",
    "\n",
    "E.g. statistics like running mean and variance of all elements, for each label.\n",
    "\n",
    "Analysis can allow you for designing better network architecture.   "
   ]
  },
  {
   "cell_type": "code",
   "execution_count": null,
   "metadata": {},
   "outputs": [],
   "source": []
  },
  {
   "cell_type": "markdown",
   "metadata": {},
   "source": [
    "5. When we have datasets, we can create model for classification task.\n",
    "\n",
    "Please, define class `MLP` as Multi Layer Perceptron \n",
    "\n",
    "with two hidden fully connected layers with bias.\n",
    "\n",
    "Class must inherits from `torch.nn.Module`.\n",
    "\n",
    "Apply following configuration:\n",
    "\n",
    "- first with 512 neurons,\n",
    "- second with 512 neurons,\n",
    "- output layer adjust to tho size of classification problem.\n",
    "\n",
    "For `__init__` method add parameters: input_shape and output_size.\n",
    "\n",
    "Hidden layers sizes can also be parametrized. \n",
    "\n",
    "Don't forget about nonlinearities! \n",
    "\n",
    "For hidden layers you can use `ReLU` module from `torch.nn`.\n",
    "\n",
    "For output apply softmax function / layers.\n",
    "\n",
    "Network layer-by-layer processing define in `forward` method with argument as a network \n",
    "\n",
    "input tensor - batch of images with shape (batch_size, channels, height, width).\n",
    "(channels = 1, for gray scale images)\n",
    "\n",
    "Instantiate model as `net` object.\n"
   ]
  },
  {
   "cell_type": "markdown",
   "metadata": {},
   "source": [
    "Layers:\n",
    "- `torch.nn.Sequential`\n",
    "    - layer allows for forward pass through\n",
    "        component layers:\n",
    "        ```\n",
    "        t_in: Tensor\n",
    "        t_out: Tensor = t_in\n",
    "        for L in layers:\n",
    "            t_out = L(t_out)\n",
    "        return t_out```\n",
    "        \n",
    "- `torch.nn.Flatten`\n",
    "    - layer makes input tensor flattened:\n",
    "    - (bs,CH,H,W) - > (bs,CH*H*W)\n",
    "    \n",
    "- `torch.nn.Linear(ch_in, ch_out, bias)`\n",
    "    - 'classical' neural network layer - fully connected\n",
    "    - ch_in is a number of input channels\n",
    "    - ch_out is number of output channels / number of neurons in layer\n",
    "    - bias - whether to use bias parameter\n",
    "    - for Linear layers it is recommended to use flatten layer before, \n",
    "            when input has more than 2 dimensions\n",
    "    - operation implemented by this layer is a vector / matrix multiplication\n",
    "        - `y = W x v` or `y = W x v + b`\n",
    "        - W has a shape [ch_out, ch_in]\n",
    "        - v has a shape [ch_in]\n",
    "        - b has a shape [ch_in]\n",
    "        - y has a shape [ch_out]\n",
    "\n",
    "- `torch.nn.ReLU`\n",
    "    - layer applies ReLU function on input tensor\n",
    "    \n",
    "- `torch.nn.Softmax(dim)`\n",
    "    - layer applies softmax function on input tensor\n",
    "    - `dim` - dimension over which function is calculated\n",
    "\n",
    "\n",
    "For the formulas of activation function go to [torch documentation](https://pytorch.org/docs/stable/index.html)"
   ]
  },
  {
   "cell_type": "code",
   "execution_count": 5,
   "metadata": {},
   "outputs": [],
   "source": [
    "from typing import List, Tuple\n",
    "\n",
    "\n",
    "class MLP(torch.nn.Module):\n",
    "\n",
    "    def __init__(self, \n",
    "                 input_shape:Tuple[int,int,int], \n",
    "                 num_of_outputs:int\n",
    "                 ) -> None:\n",
    "        super().__init__()\n",
    "        \n",
    "        #  simple version\n",
    "        self.net = torch.nn.Sequential(\n",
    "                                      torch.nn.Flatten(),\n",
    "                                      \n",
    "                                      torch.nn.Linear(torch.prod(torch.tensor(input_shape)),\n",
    "                                                      512,\n",
    "                                                      ),\n",
    "                                      torch.nn.ReLU(),\n",
    "                                      \n",
    "                                      torch.nn.Linear(512,\n",
    "                                                      512,\n",
    "                                                    #   bias=True\n",
    "                                                      ),\n",
    "                                      torch.nn.ReLU(),\n",
    "                                      \n",
    "                                      torch.nn.Linear(512,\n",
    "                                                      num_of_outputs,\n",
    "                                                    #   bias=True\n",
    "                                                      ),\n",
    "                                      torch.nn.Softmax(dim=1),\n",
    "        )\n",
    "        \n",
    "        # more complex version - allows customizations\n",
    "        # self.fc1 = torch.nn.Linear(torch.prod(torch.tensor(input_shape)), 512) \n",
    "        # self.fc2 = torch.nn.Linear(512, 512, bias=True) \n",
    "        # self.fc3 = torch.nn.Linear(512, num_of_outputs, bias=True)\n",
    "         \n",
    "        \n",
    "    def forward(self, x: torch.Tensor) -> torch.Tensor:\n",
    "        # simple version\n",
    "        return self.net(x)\n",
    "        \n",
    "        # complex version\n",
    "        # x = x.flatten(1) # for flattening use flatten method\n",
    "        # x = self.fc1(x)\n",
    "        # x = torch.relu(x) # function instead of module\n",
    "        # x = self.fc2(x)\n",
    "        # x = torch.relu(x) # function instead of module\n",
    "        # x = self.fc3(x)\n",
    "        # x = torch.softmax(x,dim=1)  # function instead of module\n",
    "        # return x\n",
    "        \n",
    "\n",
    "\n",
    "net = MLP((1,28,28), # images shape\n",
    "          10 # number of classes of images - digits 0-9\n",
    "          )\n",
    "# net = net.to(device)"
   ]
  },
  {
   "cell_type": "markdown",
   "metadata": {},
   "source": [
    "6. To train network we need to know 'how good or bad' results it gives.\n",
    "Please, instantiate `torch.nn.CrossEntropyLoss` as `loss_fcn`."
   ]
  },
  {
   "cell_type": "code",
   "execution_count": 6,
   "metadata": {},
   "outputs": [],
   "source": [
    "loss_fcn = torch.nn.CrossEntropyLoss(reduction='mean')  # criterion will calculate mean CE from batch"
   ]
  },
  {
   "cell_type": "markdown",
   "metadata": {},
   "source": [
    "7. To score network define accuracy metric.\n",
    "\n",
    "For network output you need to decide what is the final network answer(`argmax`).\n",
    "\n",
    "`torch.no_grad()` prevents gradient requirement for computations inside method."
   ]
  },
  {
   "cell_type": "code",
   "execution_count": 7,
   "metadata": {},
   "outputs": [],
   "source": [
    "from abc import ABC, abstractmethod\n",
    "from typing import Any\n",
    "\n",
    "\n",
    "class BaseMetic(ABC):\n",
    "\n",
    "    @abstractmethod\n",
    "    def __call__(self, y_pred, y_ref) -> Any:\n",
    "        raise NotImplementedError()    \n",
    "    \n",
    "    \n",
    "class AccuracyMetic(BaseMetic):\n",
    "\n",
    "    def __init__(self) -> None:\n",
    "        pass\n",
    "    \n",
    "    @torch.no_grad()\n",
    "    def __call__(self, y_pred: torch.Tensor, y_ref: torch.Tensor) -> torch.Tensor:\n",
    "        \"\"\"\n",
    "        :param y_pred: tensor of shape (batch_size, num_of_classes) type float\n",
    "        :param y_ref: tensor with shape (batch_size,) and type Long\n",
    "        :return: scalar tensor with accuracy metric for batch\n",
    "        \"\"\"\n",
    "        y_pred = y_pred.argmax(1)\n",
    "        cmp = y_pred == y_ref\n",
    "        # scalar value\n",
    "        score: torch.Tensor = cmp.sum() / cmp.shape[0]\n",
    "        \n",
    "        return score\n",
    "\n",
    "\n",
    "metric = AccuracyMetic()"
   ]
  },
  {
   "cell_type": "markdown",
   "metadata": {},
   "source": [
    "8. To change network parameters, we need optimizers object.\n",
    "\n",
    "Instantiate `torch.optim.SGD` (with `net`work `parameters`) as `optimizer`.\n",
    "\n",
    "Use learning rate = 0.01.\n",
    "\n",
    "Count number of parameters."
   ]
  },
  {
   "cell_type": "code",
   "execution_count": 8,
   "metadata": {},
   "outputs": [
    {
     "name": "stdout",
     "output_type": "stream",
     "text": [
      "Number of parameters: 669706\n"
     ]
    }
   ],
   "source": [
    "def count_params(model: torch.nn.Module):\n",
    "    num_of_params = 0\n",
    "    for p in model.parameters():\n",
    "        num_of_params += p.view(-1,1).shape[0]\n",
    "        \n",
    "    return num_of_params\n",
    "\n",
    "\n",
    "params = net.parameters()\n",
    "optimizer = torch.optim.SGD(params, # tell optimizer what is the object of optimization  \n",
    "                            lr=0.01  # how big steps opt. should take\n",
    "                            )\n",
    "print(\"Number of parameters:\", count_params(net))"
   ]
  },
  {
   "cell_type": "markdown",
   "metadata": {},
   "source": [
    "9. Now define training / testing function:\n",
    "\n",
    "Util functions: `tensor.backward`, `torch.nn.module()`"
   ]
  },
  {
   "cell_type": "code",
   "execution_count": 9,
   "metadata": {},
   "outputs": [],
   "source": [
    "from typing import Tuple\n",
    "import tqdm\n",
    "\n",
    "\n",
    "def train_test_pass(model: torch.nn.Module, \n",
    "                    data_generator, \n",
    "                    criterion, \n",
    "                    metric: BaseMetic,\n",
    "                    optimizer: torch.optim.Optimizer = None, \n",
    "                    update_period: int = None,\n",
    "                    mode: str = 'test',\n",
    "                    device = torch.device('cpu')) -> Tuple[torch.nn.Module, float, float]:\n",
    "    \n",
    "    # change model mode to train or test\n",
    "    if mode == 'train':\n",
    "        model.train(True)\n",
    "        \n",
    "    elif mode == 'test':\n",
    "        model.eval()\n",
    "        \n",
    "    else:\n",
    "        raise RuntimeError(\"Unsupported mode.\")\n",
    "\n",
    "    # move model to device\n",
    "    model = model.to(device)\n",
    "    \n",
    "    # reset model parameters' gradients with optimizer\n",
    "    if mode == 'train':\n",
    "        optimizer.zero_grad()\n",
    "    \n",
    "    total_loss: float = 0.0\n",
    "    total_accuracy: float = 0.0\n",
    "    samples_num: int = 0\n",
    "    \n",
    "    for i, (X, y_ref) in tqdm.tqdm(enumerate(data_generator),):\n",
    "        # convert tensors to device\n",
    "        X = X.to(device)\n",
    "        y_ref = y_ref.to(device)\n",
    "        \n",
    "        # process by network\n",
    "        y_pred = model(X)\n",
    "        \n",
    "        # calculate loss\n",
    "        loss: torch.Tensor = criterion(y_pred, y_ref)\n",
    "        \n",
    "        # designate gradient based on loss\n",
    "        loss.backward()\n",
    "        \n",
    "        if mode == 'train' and (i+1) % update_period == 0:\n",
    "            # update parameters with optimizer\n",
    "            optimizer.step()\n",
    "            # gradient designation sums it's values from previous passes \n",
    "            # there is needed zeroing stored values of gradient\n",
    "            optimizer.zero_grad()\n",
    "            \n",
    "        # calculate accuracy\n",
    "        accuracy = metric(y_pred, y_ref)\n",
    "        \n",
    "        total_loss += loss.item() * y_pred.shape[0]\n",
    "        total_accuracy += accuracy.item() * y_pred.shape[0]\n",
    "        samples_num += y_pred.shape[0]\n",
    "    \n",
    "    if samples_num == 0:\n",
    "        return model, 0.0, 0.0\n",
    "    \n",
    "    return model, total_loss / samples_num, total_accuracy / samples_num"
   ]
  },
  {
   "cell_type": "markdown",
   "metadata": {},
   "source": [
    "10. Prepare training loop (over epochs) function:\n",
    "- adjust max number of epochs to achieve satisfactory results.\n",
    "- `**` additionally, implement auto-detection of bias-variance tradeoff point, to break further training.\n",
    "- `***` additionally, use learning rate scheduler.\n",
    "- for each epoch collect losses and accuracies for both datasets."
   ]
  },
  {
   "cell_type": "code",
   "execution_count": 10,
   "metadata": {},
   "outputs": [],
   "source": [
    "def training(model,\n",
    "             train_loader,\n",
    "             loss_fcn,\n",
    "             metric,\n",
    "             optimizer,\n",
    "             update_period,\n",
    "             epoch_max,\n",
    "             device):\n",
    "    loss_train = []\n",
    "    loss_test = []\n",
    "    acc_train = []\n",
    "    acc_test = []\n",
    "\n",
    "    for e in range(epoch_max):\n",
    "        epoch = e+1\n",
    "        print(f'Epoch {epoch} / {epoch_max}: STARTED')\n",
    "        print('TRAINING', end='')\n",
    "        net, loss, acc = train_test_pass(model,\n",
    "                                         train_loader,\n",
    "                                         loss_fcn,\n",
    "                                         metric,\n",
    "                                         optimizer,\n",
    "                                         update_period=update_period,\n",
    "                                         mode='train',\n",
    "                                         device=device)\n",
    "        loss_train.append(loss)\n",
    "        acc_train.append(acc)\n",
    "\n",
    "        print('\\rVALIDATION', end='')\n",
    "        net, loss, acc = train_test_pass(model,\n",
    "                                         test_loader,\n",
    "                                         loss_fcn,\n",
    "                                         metric,\n",
    "                                         optimizer,\n",
    "                                         update_period=update_period,\n",
    "                                         mode='test',\n",
    "                                         device=device)\n",
    "        loss_test.append(loss)\n",
    "        acc_test.append(acc)\n",
    "\n",
    "        print(\n",
    "            f'\\rAfter epoch {epoch}: loss={loss_train[-1]:.4f} acc={acc_train[-1]:.4f} val_loss={loss_test[-1]:.4f} val_acc={acc_test[-1]:.4f}')\n",
    "        print(f'Epoch {epoch} / {epoch_max}: FINISHED\\n')\n",
    "    \n",
    "    return model, {'loss_train': loss_train, \n",
    "                   'acc_train': acc_train, \n",
    "                   'loss_test': loss_test, \n",
    "                   'acc_test': acc_test}"
   ]
  },
  {
   "cell_type": "code",
   "execution_count": 11,
   "metadata": {},
   "outputs": [
    {
     "name": "stdout",
     "output_type": "stream",
     "text": [
      "Epoch 1 / 30: STARTED\n",
      "TRAINING"
     ]
    },
    {
     "name": "stderr",
     "output_type": "stream",
     "text": [
      "938it [00:07, 119.36it/s]\n"
     ]
    },
    {
     "name": "stdout",
     "output_type": "stream",
     "text": [
      "VALIDATION"
     ]
    },
    {
     "name": "stderr",
     "output_type": "stream",
     "text": [
      "157it [00:01, 113.45it/s]\n"
     ]
    },
    {
     "name": "stdout",
     "output_type": "stream",
     "text": [
      "After epoch 1: loss=2.3009 acc=0.2069 val_loss=2.2988 val_acc=0.3733\n",
      "Epoch 1 / 30: FINISHED\n",
      "\n",
      "Epoch 2 / 30: STARTED\n",
      "TRAINING"
     ]
    },
    {
     "name": "stderr",
     "output_type": "stream",
     "text": [
      "938it [00:07, 118.59it/s]\n"
     ]
    },
    {
     "name": "stdout",
     "output_type": "stream",
     "text": [
      "VALIDATION"
     ]
    },
    {
     "name": "stderr",
     "output_type": "stream",
     "text": [
      "157it [00:01, 123.72it/s]\n"
     ]
    },
    {
     "name": "stdout",
     "output_type": "stream",
     "text": [
      "After epoch 2: loss=2.2958 acc=0.4244 val_loss=2.2917 val_acc=0.4139\n",
      "Epoch 2 / 30: FINISHED\n",
      "\n",
      "Epoch 3 / 30: STARTED\n",
      "TRAINING"
     ]
    },
    {
     "name": "stderr",
     "output_type": "stream",
     "text": [
      "938it [00:07, 121.17it/s]\n"
     ]
    },
    {
     "name": "stdout",
     "output_type": "stream",
     "text": [
      "VALIDATION"
     ]
    },
    {
     "name": "stderr",
     "output_type": "stream",
     "text": [
      "157it [00:01, 121.52it/s]\n"
     ]
    },
    {
     "name": "stdout",
     "output_type": "stream",
     "text": [
      "After epoch 3: loss=2.2809 acc=0.2929 val_loss=2.2578 val_acc=0.2052\n",
      "Epoch 3 / 30: FINISHED\n",
      "\n",
      "Epoch 4 / 30: STARTED\n",
      "TRAINING"
     ]
    },
    {
     "name": "stderr",
     "output_type": "stream",
     "text": [
      "938it [00:07, 120.59it/s]\n"
     ]
    },
    {
     "name": "stdout",
     "output_type": "stream",
     "text": [
      "VALIDATION"
     ]
    },
    {
     "name": "stderr",
     "output_type": "stream",
     "text": [
      "157it [00:01, 128.55it/s]\n"
     ]
    },
    {
     "name": "stdout",
     "output_type": "stream",
     "text": [
      "After epoch 4: loss=2.2183 acc=0.2722 val_loss=2.1651 val_acc=0.3547\n",
      "Epoch 4 / 30: FINISHED\n",
      "\n",
      "Epoch 5 / 30: STARTED\n",
      "TRAINING"
     ]
    },
    {
     "name": "stderr",
     "output_type": "stream",
     "text": [
      "938it [00:06, 134.03it/s]\n"
     ]
    },
    {
     "name": "stdout",
     "output_type": "stream",
     "text": [
      "VALIDATION"
     ]
    },
    {
     "name": "stderr",
     "output_type": "stream",
     "text": [
      "157it [00:01, 128.19it/s]\n"
     ]
    },
    {
     "name": "stdout",
     "output_type": "stream",
     "text": [
      "After epoch 5: loss=2.0754 acc=0.4382 val_loss=1.9863 val_acc=0.5108\n",
      "Epoch 5 / 30: FINISHED\n",
      "\n",
      "Epoch 6 / 30: STARTED\n",
      "TRAINING"
     ]
    },
    {
     "name": "stderr",
     "output_type": "stream",
     "text": [
      "938it [00:07, 124.15it/s]\n"
     ]
    },
    {
     "name": "stdout",
     "output_type": "stream",
     "text": [
      "VALIDATION"
     ]
    },
    {
     "name": "stderr",
     "output_type": "stream",
     "text": [
      "157it [00:01, 121.13it/s]\n"
     ]
    },
    {
     "name": "stdout",
     "output_type": "stream",
     "text": [
      "After epoch 6: loss=1.9202 acc=0.5987 val_loss=1.8583 val_acc=0.6553\n",
      "Epoch 6 / 30: FINISHED\n",
      "\n",
      "Epoch 7 / 30: STARTED\n",
      "TRAINING"
     ]
    },
    {
     "name": "stderr",
     "output_type": "stream",
     "text": [
      "938it [00:07, 120.56it/s]\n"
     ]
    },
    {
     "name": "stdout",
     "output_type": "stream",
     "text": [
      "VALIDATION"
     ]
    },
    {
     "name": "stderr",
     "output_type": "stream",
     "text": [
      "157it [00:01, 125.55it/s]\n"
     ]
    },
    {
     "name": "stdout",
     "output_type": "stream",
     "text": [
      "After epoch 7: loss=1.8349 acc=0.6583 val_loss=1.8043 val_acc=0.6878\n",
      "Epoch 7 / 30: FINISHED\n",
      "\n",
      "Epoch 8 / 30: STARTED\n",
      "TRAINING"
     ]
    },
    {
     "name": "stderr",
     "output_type": "stream",
     "text": [
      "938it [00:07, 123.62it/s]\n"
     ]
    },
    {
     "name": "stdout",
     "output_type": "stream",
     "text": [
      "VALIDATION"
     ]
    },
    {
     "name": "stderr",
     "output_type": "stream",
     "text": [
      "157it [00:01, 125.12it/s]\n"
     ]
    },
    {
     "name": "stdout",
     "output_type": "stream",
     "text": [
      "After epoch 8: loss=1.7670 acc=0.7577 val_loss=1.7228 val_acc=0.8036\n",
      "Epoch 8 / 30: FINISHED\n",
      "\n",
      "Epoch 9 / 30: STARTED\n",
      "TRAINING"
     ]
    },
    {
     "name": "stderr",
     "output_type": "stream",
     "text": [
      "938it [00:07, 127.35it/s]\n"
     ]
    },
    {
     "name": "stdout",
     "output_type": "stream",
     "text": [
      "VALIDATION"
     ]
    },
    {
     "name": "stderr",
     "output_type": "stream",
     "text": [
      "157it [00:01, 134.98it/s]\n"
     ]
    },
    {
     "name": "stdout",
     "output_type": "stream",
     "text": [
      "After epoch 9: loss=1.7080 acc=0.8052 val_loss=1.6845 val_acc=0.8183\n",
      "Epoch 9 / 30: FINISHED\n",
      "\n",
      "Epoch 10 / 30: STARTED\n",
      "TRAINING"
     ]
    },
    {
     "name": "stderr",
     "output_type": "stream",
     "text": [
      "938it [00:07, 119.62it/s]\n"
     ]
    },
    {
     "name": "stdout",
     "output_type": "stream",
     "text": [
      "VALIDATION"
     ]
    },
    {
     "name": "stderr",
     "output_type": "stream",
     "text": [
      "157it [00:01, 130.63it/s]\n"
     ]
    },
    {
     "name": "stdout",
     "output_type": "stream",
     "text": [
      "After epoch 10: loss=1.6808 acc=0.8152 val_loss=1.6654 val_acc=0.8259\n",
      "Epoch 10 / 30: FINISHED\n",
      "\n",
      "Epoch 11 / 30: STARTED\n",
      "TRAINING"
     ]
    },
    {
     "name": "stderr",
     "output_type": "stream",
     "text": [
      "938it [00:07, 131.23it/s]\n"
     ]
    },
    {
     "name": "stdout",
     "output_type": "stream",
     "text": [
      "VALIDATION"
     ]
    },
    {
     "name": "stderr",
     "output_type": "stream",
     "text": [
      "157it [00:01, 130.34it/s]\n"
     ]
    },
    {
     "name": "stdout",
     "output_type": "stream",
     "text": [
      "After epoch 11: loss=1.6654 acc=0.8217 val_loss=1.6533 val_acc=0.8312\n",
      "Epoch 11 / 30: FINISHED\n",
      "\n",
      "Epoch 12 / 30: STARTED\n",
      "TRAINING"
     ]
    },
    {
     "name": "stderr",
     "output_type": "stream",
     "text": [
      "938it [00:07, 127.13it/s]\n"
     ]
    },
    {
     "name": "stdout",
     "output_type": "stream",
     "text": [
      "VALIDATION"
     ]
    },
    {
     "name": "stderr",
     "output_type": "stream",
     "text": [
      "157it [00:01, 128.87it/s]\n"
     ]
    },
    {
     "name": "stdout",
     "output_type": "stream",
     "text": [
      "After epoch 12: loss=1.6555 acc=0.8265 val_loss=1.6455 val_acc=0.8348\n",
      "Epoch 12 / 30: FINISHED\n",
      "\n",
      "Epoch 13 / 30: STARTED\n",
      "TRAINING"
     ]
    },
    {
     "name": "stderr",
     "output_type": "stream",
     "text": [
      "938it [00:07, 121.88it/s]\n"
     ]
    },
    {
     "name": "stdout",
     "output_type": "stream",
     "text": [
      "VALIDATION"
     ]
    },
    {
     "name": "stderr",
     "output_type": "stream",
     "text": [
      "157it [00:01, 127.26it/s]\n"
     ]
    },
    {
     "name": "stdout",
     "output_type": "stream",
     "text": [
      "After epoch 13: loss=1.6484 acc=0.8302 val_loss=1.6398 val_acc=0.8369\n",
      "Epoch 13 / 30: FINISHED\n",
      "\n",
      "Epoch 14 / 30: STARTED\n",
      "TRAINING"
     ]
    },
    {
     "name": "stderr",
     "output_type": "stream",
     "text": [
      "938it [00:07, 129.27it/s]\n"
     ]
    },
    {
     "name": "stdout",
     "output_type": "stream",
     "text": [
      "VALIDATION"
     ]
    },
    {
     "name": "stderr",
     "output_type": "stream",
     "text": [
      "157it [00:01, 128.31it/s]\n"
     ]
    },
    {
     "name": "stdout",
     "output_type": "stream",
     "text": [
      "After epoch 14: loss=1.6431 acc=0.8328 val_loss=1.6352 val_acc=0.8398\n",
      "Epoch 14 / 30: FINISHED\n",
      "\n",
      "Epoch 15 / 30: STARTED\n",
      "TRAINING"
     ]
    },
    {
     "name": "stderr",
     "output_type": "stream",
     "text": [
      "938it [00:07, 120.98it/s]\n"
     ]
    },
    {
     "name": "stdout",
     "output_type": "stream",
     "text": [
      "VALIDATION"
     ]
    },
    {
     "name": "stderr",
     "output_type": "stream",
     "text": [
      "157it [00:01, 121.47it/s]\n"
     ]
    },
    {
     "name": "stdout",
     "output_type": "stream",
     "text": [
      "After epoch 15: loss=1.6332 acc=0.8437 val_loss=1.6099 val_acc=0.8816\n",
      "Epoch 15 / 30: FINISHED\n",
      "\n",
      "Epoch 16 / 30: STARTED\n",
      "TRAINING"
     ]
    },
    {
     "name": "stderr",
     "output_type": "stream",
     "text": [
      "938it [00:07, 118.50it/s]\n"
     ]
    },
    {
     "name": "stdout",
     "output_type": "stream",
     "text": [
      "VALIDATION"
     ]
    },
    {
     "name": "stderr",
     "output_type": "stream",
     "text": [
      "157it [00:01, 119.97it/s]\n"
     ]
    },
    {
     "name": "stdout",
     "output_type": "stream",
     "text": [
      "After epoch 16: loss=1.6048 acc=0.8839 val_loss=1.5929 val_acc=0.8899\n",
      "Epoch 16 / 30: FINISHED\n",
      "\n",
      "Epoch 17 / 30: STARTED\n",
      "TRAINING"
     ]
    },
    {
     "name": "stderr",
     "output_type": "stream",
     "text": [
      "938it [00:07, 125.04it/s]\n"
     ]
    },
    {
     "name": "stdout",
     "output_type": "stream",
     "text": [
      "VALIDATION"
     ]
    },
    {
     "name": "stderr",
     "output_type": "stream",
     "text": [
      "157it [00:01, 120.34it/s]\n"
     ]
    },
    {
     "name": "stdout",
     "output_type": "stream",
     "text": [
      "After epoch 17: loss=1.5924 acc=0.8920 val_loss=1.5840 val_acc=0.8966\n",
      "Epoch 17 / 30: FINISHED\n",
      "\n",
      "Epoch 18 / 30: STARTED\n",
      "TRAINING"
     ]
    },
    {
     "name": "stderr",
     "output_type": "stream",
     "text": [
      "938it [00:07, 119.91it/s]\n"
     ]
    },
    {
     "name": "stdout",
     "output_type": "stream",
     "text": [
      "VALIDATION"
     ]
    },
    {
     "name": "stderr",
     "output_type": "stream",
     "text": [
      "157it [00:01, 123.25it/s]\n"
     ]
    },
    {
     "name": "stdout",
     "output_type": "stream",
     "text": [
      "After epoch 18: loss=1.5846 acc=0.8966 val_loss=1.5772 val_acc=0.9004\n",
      "Epoch 18 / 30: FINISHED\n",
      "\n",
      "Epoch 19 / 30: STARTED\n",
      "TRAINING"
     ]
    },
    {
     "name": "stderr",
     "output_type": "stream",
     "text": [
      "938it [00:07, 123.17it/s]\n"
     ]
    },
    {
     "name": "stdout",
     "output_type": "stream",
     "text": [
      "VALIDATION"
     ]
    },
    {
     "name": "stderr",
     "output_type": "stream",
     "text": [
      "157it [00:01, 119.49it/s]\n"
     ]
    },
    {
     "name": "stdout",
     "output_type": "stream",
     "text": [
      "After epoch 19: loss=1.5788 acc=0.8999 val_loss=1.5726 val_acc=0.9026\n",
      "Epoch 19 / 30: FINISHED\n",
      "\n",
      "Epoch 20 / 30: STARTED\n",
      "TRAINING"
     ]
    },
    {
     "name": "stderr",
     "output_type": "stream",
     "text": [
      "938it [00:07, 120.46it/s]\n"
     ]
    },
    {
     "name": "stdout",
     "output_type": "stream",
     "text": [
      "VALIDATION"
     ]
    },
    {
     "name": "stderr",
     "output_type": "stream",
     "text": [
      "157it [00:01, 120.62it/s]\n"
     ]
    },
    {
     "name": "stdout",
     "output_type": "stream",
     "text": [
      "After epoch 20: loss=1.5742 acc=0.9031 val_loss=1.5688 val_acc=0.9067\n",
      "Epoch 20 / 30: FINISHED\n",
      "\n",
      "Epoch 21 / 30: STARTED\n",
      "TRAINING"
     ]
    },
    {
     "name": "stderr",
     "output_type": "stream",
     "text": [
      "938it [00:07, 120.05it/s]\n"
     ]
    },
    {
     "name": "stdout",
     "output_type": "stream",
     "text": [
      "VALIDATION"
     ]
    },
    {
     "name": "stderr",
     "output_type": "stream",
     "text": [
      "157it [00:01, 119.64it/s]\n"
     ]
    },
    {
     "name": "stdout",
     "output_type": "stream",
     "text": [
      "After epoch 21: loss=1.5704 acc=0.9056 val_loss=1.5657 val_acc=0.9079\n",
      "Epoch 21 / 30: FINISHED\n",
      "\n",
      "Epoch 22 / 30: STARTED\n",
      "TRAINING"
     ]
    },
    {
     "name": "stderr",
     "output_type": "stream",
     "text": [
      "938it [00:07, 119.00it/s]\n"
     ]
    },
    {
     "name": "stdout",
     "output_type": "stream",
     "text": [
      "VALIDATION"
     ]
    },
    {
     "name": "stderr",
     "output_type": "stream",
     "text": [
      "157it [00:01, 119.65it/s]\n"
     ]
    },
    {
     "name": "stdout",
     "output_type": "stream",
     "text": [
      "After epoch 22: loss=1.5671 acc=0.9080 val_loss=1.5628 val_acc=0.9107\n",
      "Epoch 22 / 30: FINISHED\n",
      "\n",
      "Epoch 23 / 30: STARTED\n",
      "TRAINING"
     ]
    },
    {
     "name": "stderr",
     "output_type": "stream",
     "text": [
      "938it [00:07, 119.94it/s]\n"
     ]
    },
    {
     "name": "stdout",
     "output_type": "stream",
     "text": [
      "VALIDATION"
     ]
    },
    {
     "name": "stderr",
     "output_type": "stream",
     "text": [
      "157it [00:01, 120.31it/s]\n"
     ]
    },
    {
     "name": "stdout",
     "output_type": "stream",
     "text": [
      "After epoch 23: loss=1.5644 acc=0.9098 val_loss=1.5601 val_acc=0.9129\n",
      "Epoch 23 / 30: FINISHED\n",
      "\n",
      "Epoch 24 / 30: STARTED\n",
      "TRAINING"
     ]
    },
    {
     "name": "stderr",
     "output_type": "stream",
     "text": [
      "938it [00:07, 119.96it/s]\n"
     ]
    },
    {
     "name": "stdout",
     "output_type": "stream",
     "text": [
      "VALIDATION"
     ]
    },
    {
     "name": "stderr",
     "output_type": "stream",
     "text": [
      "157it [00:01, 120.90it/s]\n"
     ]
    },
    {
     "name": "stdout",
     "output_type": "stream",
     "text": [
      "After epoch 24: loss=1.5618 acc=0.9119 val_loss=1.5581 val_acc=0.9135\n",
      "Epoch 24 / 30: FINISHED\n",
      "\n",
      "Epoch 25 / 30: STARTED\n",
      "TRAINING"
     ]
    },
    {
     "name": "stderr",
     "output_type": "stream",
     "text": [
      "938it [00:07, 127.30it/s]\n"
     ]
    },
    {
     "name": "stdout",
     "output_type": "stream",
     "text": [
      "VALIDATION"
     ]
    },
    {
     "name": "stderr",
     "output_type": "stream",
     "text": [
      "157it [00:01, 132.00it/s]\n"
     ]
    },
    {
     "name": "stdout",
     "output_type": "stream",
     "text": [
      "After epoch 25: loss=1.5597 acc=0.9134 val_loss=1.5558 val_acc=0.9153\n",
      "Epoch 25 / 30: FINISHED\n",
      "\n",
      "Epoch 26 / 30: STARTED\n",
      "TRAINING"
     ]
    },
    {
     "name": "stderr",
     "output_type": "stream",
     "text": [
      "938it [00:07, 125.27it/s]\n"
     ]
    },
    {
     "name": "stdout",
     "output_type": "stream",
     "text": [
      "VALIDATION"
     ]
    },
    {
     "name": "stderr",
     "output_type": "stream",
     "text": [
      "157it [00:01, 121.49it/s]\n"
     ]
    },
    {
     "name": "stdout",
     "output_type": "stream",
     "text": [
      "After epoch 26: loss=1.5577 acc=0.9153 val_loss=1.5540 val_acc=0.9175\n",
      "Epoch 26 / 30: FINISHED\n",
      "\n",
      "Epoch 27 / 30: STARTED\n",
      "TRAINING"
     ]
    },
    {
     "name": "stderr",
     "output_type": "stream",
     "text": [
      "938it [00:07, 120.80it/s]\n"
     ]
    },
    {
     "name": "stdout",
     "output_type": "stream",
     "text": [
      "VALIDATION"
     ]
    },
    {
     "name": "stderr",
     "output_type": "stream",
     "text": [
      "157it [00:01, 122.12it/s]\n"
     ]
    },
    {
     "name": "stdout",
     "output_type": "stream",
     "text": [
      "After epoch 27: loss=1.5558 acc=0.9164 val_loss=1.5526 val_acc=0.9190\n",
      "Epoch 27 / 30: FINISHED\n",
      "\n",
      "Epoch 28 / 30: STARTED\n",
      "TRAINING"
     ]
    },
    {
     "name": "stderr",
     "output_type": "stream",
     "text": [
      "938it [00:07, 119.87it/s]\n"
     ]
    },
    {
     "name": "stdout",
     "output_type": "stream",
     "text": [
      "VALIDATION"
     ]
    },
    {
     "name": "stderr",
     "output_type": "stream",
     "text": [
      "157it [00:01, 121.02it/s]\n"
     ]
    },
    {
     "name": "stdout",
     "output_type": "stream",
     "text": [
      "After epoch 28: loss=1.5541 acc=0.9175 val_loss=1.5508 val_acc=0.9189\n",
      "Epoch 28 / 30: FINISHED\n",
      "\n",
      "Epoch 29 / 30: STARTED\n",
      "TRAINING"
     ]
    },
    {
     "name": "stderr",
     "output_type": "stream",
     "text": [
      "938it [00:07, 120.26it/s]\n"
     ]
    },
    {
     "name": "stdout",
     "output_type": "stream",
     "text": [
      "VALIDATION"
     ]
    },
    {
     "name": "stderr",
     "output_type": "stream",
     "text": [
      "157it [00:01, 122.76it/s]\n"
     ]
    },
    {
     "name": "stdout",
     "output_type": "stream",
     "text": [
      "After epoch 29: loss=1.5525 acc=0.9191 val_loss=1.5492 val_acc=0.9204\n",
      "Epoch 29 / 30: FINISHED\n",
      "\n",
      "Epoch 30 / 30: STARTED\n",
      "TRAINING"
     ]
    },
    {
     "name": "stderr",
     "output_type": "stream",
     "text": [
      "938it [00:07, 119.93it/s]\n"
     ]
    },
    {
     "name": "stdout",
     "output_type": "stream",
     "text": [
      "VALIDATION"
     ]
    },
    {
     "name": "stderr",
     "output_type": "stream",
     "text": [
      "157it [00:01, 126.49it/s]"
     ]
    },
    {
     "name": "stdout",
     "output_type": "stream",
     "text": [
      "After epoch 30: loss=1.5511 acc=0.9198 val_loss=1.5482 val_acc=0.9211\n",
      "Epoch 30 / 30: FINISHED\n",
      "\n"
     ]
    },
    {
     "name": "stderr",
     "output_type": "stream",
     "text": [
      "\n"
     ]
    }
   ],
   "source": [
    "net, history = training(net,\n",
    "                        train_loader,\n",
    "                        loss_fcn,\n",
    "                        metric,\n",
    "                        optimizer,\n",
    "                        update_period=5,\n",
    "                        epoch_max=30,\n",
    "                        device=device)"
   ]
  },
  {
   "cell_type": "markdown",
   "metadata": {},
   "source": [
    "11. Display training history (`plt.plot`). "
   ]
  },
  {
   "cell_type": "code",
   "execution_count": 12,
   "metadata": {},
   "outputs": [
    {
     "data": {
      "image/png": "[encoded data removed]",
      "text/plain": [
       "<Figure size 432x288 with 1 Axes>"
      ]
     },
     "metadata": {
      "needs_background": "light"
     },
     "output_type": "display_data"
    },
    {
     "data": {
      "image/png": "[encoded data removed]",
      "text/plain": [
       "<Figure size 432x288 with 1 Axes>"
      ]
     },
     "metadata": {
      "needs_background": "light"
     },
     "output_type": "display_data"
    }
   ],
   "source": [
    "def plot_history(history):\n",
    "    plt.plot(history['loss_train'], label='train')\n",
    "    plt.plot(history['loss_test'], label='test')\n",
    "    plt.legend()\n",
    "    plt.title(\"History of loss\")\n",
    "    plt.show()\n",
    "\n",
    "    plt.plot(history['acc_train'], label='train')\n",
    "    plt.plot(history['acc_test'], label='test')\n",
    "    plt.legend()\n",
    "    plt.title(\"History of accuracy\")\n",
    "    plt.show()\n",
    "\n",
    "plot_history(history)"
   ]
  },
  {
   "cell_type": "markdown",
   "metadata": {},
   "source": [
    "12. Save model and optimizer states to files.\n",
    "\n",
    "Use method `state_dict` and function `torch.save`."
   ]
  },
  {
   "cell_type": "code",
   "execution_count": 13,
   "metadata": {},
   "outputs": [],
   "source": [
    "sd = {'model': net.state_dict(), 'opt': optimizer.state_dict()}\n",
    "torch.save(sd, 'MINST_MLP.pth')"
   ]
  },
  {
   "cell_type": "markdown",
   "metadata": {},
   "source": [
    "13. Create new network with the same architecture and initialize it with saved weights.\n",
    "\n",
    "`torch.load`, `load_state_dict`."
   ]
  },
  {
   "cell_type": "code",
   "execution_count": 14,
   "metadata": {},
   "outputs": [],
   "source": [
    "sd2 = torch.load('MINST_MLP.pth', map_location=device)\n",
    "net2 = MLP((1,28,28), 10)\n",
    "optimizer2 = torch.optim.SGD(net2.parameters(), lr=0.01)\n",
    "\n",
    "net2.load_state_dict(sd2['model'])\n",
    "optimizer2.load_state_dict(sd2['opt'])"
   ]
  },
  {
   "cell_type": "code",
   "execution_count": 15,
   "metadata": {},
   "outputs": [
    {
     "name": "stderr",
     "output_type": "stream",
     "text": [
      "157it [00:01, 127.08it/s]\n"
     ]
    },
    {
     "name": "stdout",
     "output_type": "stream",
     "text": [
      "Net1: loss=1.5482 acc=0.9211\n"
     ]
    },
    {
     "name": "stderr",
     "output_type": "stream",
     "text": [
      "157it [00:01, 129.56it/s]"
     ]
    },
    {
     "name": "stdout",
     "output_type": "stream",
     "text": [
      "Net2: loss=1.5482 acc=0.9211\n"
     ]
    },
    {
     "name": "stderr",
     "output_type": "stream",
     "text": [
      "\n"
     ]
    }
   ],
   "source": [
    "# Compare evaluations\n",
    "net1, loss1, acc1 = train_test_pass(net, \n",
    "                                    test_loader,\n",
    "                                    loss_fcn,\n",
    "                                    metric,\n",
    "                                    optimizer,\n",
    "                                    update_period=1,\n",
    "                                    mode='test',\n",
    "                                    device=device)\n",
    "print(f'Net1: loss={loss1:.4f} acc={acc1:.4f}')\n",
    "\n",
    "net2, loss2, acc2 = train_test_pass(net2, \n",
    "                                    test_loader,\n",
    "                                    loss_fcn,\n",
    "                                    metric,\n",
    "                                    optimizer2,\n",
    "                                    update_period=1,\n",
    "                                    mode='test',\n",
    "                                    device=device)\n",
    "print(f'Net2: loss={loss2:.4f} acc={acc2:.4f}')"
   ]
  },
  {
   "cell_type": "markdown",
   "metadata": {},
   "source": [
    "14. Define your own model and train it.\n",
    "\n",
    "Try achieve better results.\n",
    "\n",
    "You can use different parameters, layers e.g.:\n",
    "- conv2d\n",
    "- maxpooling2d\n",
    "- batch norm 2d\n",
    "- and more...\n",
    "\n",
    "Save weights to file."
   ]
  },
  {
   "cell_type": "code",
   "execution_count": 22,
   "metadata": {},
   "outputs": [
    {
     "name": "stdout",
     "output_type": "stream",
     "text": [
      "Number of parameters: 125130\n"
     ]
    }
   ],
   "source": [
    "from torch import nn\n",
    "\n",
    "\n",
    "class CustomNetwork(nn.Module):\n",
    "    def __init__(self, input_shape, num_of_cls) -> None:\n",
    "        super().__init__()\n",
    "        ch_in = input_shape[0]\n",
    "        self.CNN = nn.Sequential(\n",
    "            # input shape = [1,28,28]\n",
    "            nn.Conv2d(ch_in,32,3,padding=(1,1)), # shape [32,28,28]\n",
    "            nn.BatchNorm2d(32), # shape [32,28,28]\n",
    "            nn.ReLU(), # shape [32,28,28]\n",
    "            nn.MaxPool2d(2,2), # shape [32,14,14]\n",
    "            \n",
    "            nn.Conv2d(32,64,3,padding=(1,1)), # shape [64,14,14]\n",
    "            nn.BatchNorm2d(64), # shape [64,14,14]\n",
    "            nn.ReLU(), # shape [64,14,14]\n",
    "            nn.MaxPool2d(2,2), # shape [64,7,7]\n",
    "            \n",
    "            nn.Conv2d(64,128,3), # shape [128,5,5]\n",
    "            nn.BatchNorm2d(128), # shape [128,5,5]\n",
    "            nn.ReLU(), # shape [128,5,5]\n",
    "        )\n",
    "        \n",
    "        CNN_out_size = 128*(input_shape[1] // 2 // 2 - 2)*(input_shape[2] // 2 // 2 - 2)\n",
    "        # CNN_out_size = 128*5*5\n",
    "        # or less efficient\n",
    "        # with torch.no_grad():\n",
    "        #     t = torch.empty((1,)+input_shape, dtype=torch.float32)\n",
    "        #     t = self.CNN(t)\n",
    "        #     CNN_out_size = torch.prod(torch.tensor(t.shape))\n",
    "        \n",
    "        self.classification_head = nn.Sequential(\n",
    "            nn.Flatten(),\n",
    "            nn.Linear(CNN_out_size, num_of_cls),\n",
    "            nn.Softmax(dim=1)\n",
    "        )\n",
    "    \n",
    "    def forward(self, x):\n",
    "        x = self.CNN(x)\n",
    "        y = self.classification_head(x)\n",
    "        return y\n",
    "\n",
    "\n",
    "new_model = CustomNetwork((1,28,28), 10)\n",
    "new_params = new_model.parameters()\n",
    "new_optimizer = torch.optim.SGD(new_params, lr=0.01)\n",
    "\n",
    "print(\"Number of parameters:\", count_params(new_model))"
   ]
  },
  {
   "cell_type": "code",
   "execution_count": 23,
   "metadata": {},
   "outputs": [
    {
     "name": "stdout",
     "output_type": "stream",
     "text": [
      "Epoch 1 / 5: STARTED\n",
      "TRAINING"
     ]
    },
    {
     "name": "stderr",
     "output_type": "stream",
     "text": [
      "938it [00:30, 30.59it/s]\n"
     ]
    },
    {
     "name": "stdout",
     "output_type": "stream",
     "text": [
      "VALIDATION"
     ]
    },
    {
     "name": "stderr",
     "output_type": "stream",
     "text": [
      "157it [00:05, 31.17it/s]\n"
     ]
    },
    {
     "name": "stdout",
     "output_type": "stream",
     "text": [
      "After epoch 1: loss=1.6553 acc=0.8621 val_loss=1.5210 val_acc=0.9641\n",
      "Epoch 1 / 5: FINISHED\n",
      "\n",
      "Epoch 2 / 5: STARTED\n",
      "TRAINING"
     ]
    },
    {
     "name": "stderr",
     "output_type": "stream",
     "text": [
      "938it [00:29, 31.45it/s]\n"
     ]
    },
    {
     "name": "stdout",
     "output_type": "stream",
     "text": [
      "VALIDATION"
     ]
    },
    {
     "name": "stderr",
     "output_type": "stream",
     "text": [
      "157it [00:04, 31.85it/s]\n"
     ]
    },
    {
     "name": "stdout",
     "output_type": "stream",
     "text": [
      "After epoch 2: loss=1.5131 acc=0.9680 val_loss=1.5008 val_acc=0.9750\n",
      "Epoch 2 / 5: FINISHED\n",
      "\n",
      "Epoch 3 / 5: STARTED\n",
      "TRAINING"
     ]
    },
    {
     "name": "stderr",
     "output_type": "stream",
     "text": [
      "938it [00:30, 31.26it/s]\n"
     ]
    },
    {
     "name": "stdout",
     "output_type": "stream",
     "text": [
      "VALIDATION"
     ]
    },
    {
     "name": "stderr",
     "output_type": "stream",
     "text": [
      "157it [00:04, 32.86it/s]\n"
     ]
    },
    {
     "name": "stdout",
     "output_type": "stream",
     "text": [
      "After epoch 3: loss=1.4987 acc=0.9761 val_loss=1.4925 val_acc=0.9796\n",
      "Epoch 3 / 5: FINISHED\n",
      "\n",
      "Epoch 4 / 5: STARTED\n",
      "TRAINING"
     ]
    },
    {
     "name": "stderr",
     "output_type": "stream",
     "text": [
      "938it [00:29, 31.69it/s]\n"
     ]
    },
    {
     "name": "stdout",
     "output_type": "stream",
     "text": [
      "VALIDATION"
     ]
    },
    {
     "name": "stderr",
     "output_type": "stream",
     "text": [
      "157it [00:04, 31.68it/s]\n"
     ]
    },
    {
     "name": "stdout",
     "output_type": "stream",
     "text": [
      "After epoch 4: loss=1.4920 acc=0.9799 val_loss=1.4878 val_acc=0.9824\n",
      "Epoch 4 / 5: FINISHED\n",
      "\n",
      "Epoch 5 / 5: STARTED\n",
      "TRAINING"
     ]
    },
    {
     "name": "stderr",
     "output_type": "stream",
     "text": [
      "938it [00:26, 35.04it/s]\n"
     ]
    },
    {
     "name": "stdout",
     "output_type": "stream",
     "text": [
      "VALIDATION"
     ]
    },
    {
     "name": "stderr",
     "output_type": "stream",
     "text": [
      "157it [00:05, 31.33it/s]"
     ]
    },
    {
     "name": "stdout",
     "output_type": "stream",
     "text": [
      "After epoch 5: loss=1.4877 acc=0.9826 val_loss=1.4852 val_acc=0.9839\n",
      "Epoch 5 / 5: FINISHED\n",
      "\n"
     ]
    },
    {
     "name": "stderr",
     "output_type": "stream",
     "text": [
      "\n"
     ]
    }
   ],
   "source": [
    "new_model, new_history = training(new_model,\n",
    "                              train_loader,\n",
    "                              loss_fcn,\n",
    "                              metric,\n",
    "                              new_optimizer,\n",
    "                              update_period=5,\n",
    "                              epoch_max=5,\n",
    "                              device=device)"
   ]
  },
  {
   "cell_type": "code",
   "execution_count": 24,
   "metadata": {},
   "outputs": [
    {
     "data": {
      "image/png": "[encoded data removed]",
      "text/plain": [
       "<Figure size 432x288 with 1 Axes>"
      ]
     },
     "metadata": {
      "needs_background": "light"
     },
     "output_type": "display_data"
    },
    {
     "data": {
      "image/png": "[encoded data removed]",
      "text/plain": [
       "<Figure size 432x288 with 1 Axes>"
      ]
     },
     "metadata": {
      "needs_background": "light"
     },
     "output_type": "display_data"
    }
   ],
   "source": [
    "plot_history(new_history)"
   ]
  },
  {
   "cell_type": "code",
   "execution_count": 25,
   "metadata": {},
   "outputs": [],
   "source": [
    "sd = {'model': new_model.state_dict(), \n",
    "      'opt': new_optimizer.state_dict()}\n",
    "torch.save(sd, 'MINST_CNN.pth')"
   ]
  },
  {
   "cell_type": "markdown",
   "metadata": {},
   "source": [
    "15. You can leave a feedback, if you want :)"
   ]
  },
  {
   "cell_type": "markdown",
   "metadata": {},
   "source": []
  },
  {
   "cell_type": "markdown",
   "metadata": {},
   "source": [
    "16. Additional exercises please upload to UPEL / moodle."
   ]
  },
  {
   "cell_type": "markdown",
   "metadata": {},
   "source": []
  }
 ],
 "metadata": {
  "kernelspec": {
   "display_name": "Python 3.8.10 64-bit",
   "language": "python",
   "name": "python3"
  },
  "language_info": {
   "codemirror_mode": {
    "name": "ipython",
    "version": 3
   },
   "file_extension": ".py",
   "mimetype": "text/x-python",
   "name": "python",
   "nbconvert_exporter": "python",
   "pygments_lexer": "ipython3",
   "version": "3.8.10"
  },
  "orig_nbformat": 4,
  "vscode": {
   "interpreter": {
    "hash": "e7370f93d1d0cde622a1f8e1c04877d8463912d04d973331ad4851f04de6915a"
   }
  }
 },
 "nbformat": 4,
 "nbformat_minor": 2
}
