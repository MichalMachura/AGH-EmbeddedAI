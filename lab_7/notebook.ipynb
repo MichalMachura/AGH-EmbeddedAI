{
 "cells": [
  {
   "cell_type": "markdown",
   "metadata": {},
   "source": [
    "# CNN pruning and quantization\n",
    "\n",
    "\n"
   ]
  },
  {
   "cell_type": "markdown",
   "metadata": {},
   "source": [
    "Quantization allows for decreasing data memory size necessary to store them.\n",
    "\n",
    "Also allows for faster computation with dedicated devices like embedded GPU and FPGA.\n",
    "\n",
    "Applying quantization on continues data creates regions of attraction.\n",
    "\n",
    "Values from some range are assigned to proper value that represents that range.\n",
    "\n",
    "That also increase the level of correlation between quantized filters, \n",
    "\n",
    "so allows for more effective pruning.\n",
    "\n",
    "That results with much more smaller network than at the beginning.  "
   ]
  },
  {
   "cell_type": "code",
   "execution_count": 1,
   "metadata": {},
   "outputs": [
    {
     "name": "stdout",
     "output_type": "stream",
     "text": [
      "mkdir: cannot create directory ‘data’: File exists\n"
     ]
    }
   ],
   "source": [
    "!mkdir data"
   ]
  },
  {
   "cell_type": "code",
   "execution_count": 31,
   "metadata": {},
   "outputs": [
    {
     "name": "stdout",
     "output_type": "stream",
     "text": [
      "cuda\n"
     ]
    }
   ],
   "source": [
    "import torch\n",
    "from torchvision import datasets\n",
    "from torch.utils.data import DataLoader\n",
    "from torch import nn\n",
    "from torch import optim\n",
    "import numpy as np\n",
    "import matplotlib.pyplot as plt\n",
    "import random\n",
    "from typing import List, Tuple, Dict\n",
    "from copy import deepcopy\n",
    "\n",
    "# local_utils file contains util functions for training or display\n",
    "# CHECK IT\n",
    "import local_utils as lu\n",
    "\n",
    "device = torch.device('cuda') if torch.cuda.is_available() else torch.device('cpu')\n",
    "print(device)\n",
    "\n",
    "def set_random_seed(seed:int = 0):\n",
    "    torch.manual_seed(seed)\n",
    "    np.random.seed(seed)\n",
    "    random.seed(seed)\n",
    "    "
   ]
  },
  {
   "cell_type": "markdown",
   "metadata": {},
   "source": [
    "Datasets"
   ]
  },
  {
   "cell_type": "code",
   "execution_count": 2,
   "metadata": {},
   "outputs": [
    {
     "name": "stdout",
     "output_type": "stream",
     "text": [
      "len(train_loader) = 938\n",
      "len(test_loader) = 157\n",
      "torch.Size([64, 1, 28, 28])\n",
      "torch.Size([64])\n"
     ]
    },
    {
     "data": {
      "text/plain": [
       "<Figure size 432x288 with 0 Axes>"
      ]
     },
     "metadata": {},
     "output_type": "display_data"
    },
    {
     "data": {
      "image/png": "[encoded data removed]",
      "text/plain": [
       "<Figure size 2304x288 with 8 Axes>"
      ]
     },
     "metadata": {
      "needs_background": "light"
     },
     "output_type": "display_data"
    }
   ],
   "source": [
    "from torchvision.transforms import ToTensor\n",
    "\n",
    "BATCH_SIZE = 64\n",
    "set_random_seed(0)\n",
    "\n",
    "train_dataset = datasets.MNIST('data', \n",
    "                              train=True,\n",
    "                              download=True,\n",
    "                              transform=ToTensor())\n",
    "test_dataset = datasets.MNIST('data', \n",
    "                              train=False,\n",
    "                              download=True,\n",
    "                              transform=ToTensor())\n",
    "\n",
    "train_loader = DataLoader(train_dataset, \n",
    "                          batch_size=BATCH_SIZE,\n",
    "                          shuffle=False)\n",
    "test_loader = DataLoader(test_dataset, \n",
    "                          batch_size=BATCH_SIZE,\n",
    "                          shuffle=False)\n",
    "\n",
    "print(\"len(train_loader) =\", len(train_loader))\n",
    "print(\"len(test_loader) =\", len(test_loader))\n",
    "\n",
    "plt.gray()\n",
    "loader = train_loader\n",
    "for X, y in loader:\n",
    "    print(X.shape)\n",
    "    print(y.shape)\n",
    "    \n",
    "    ROWS, COLS = 1, 8\n",
    "    fig, axs = plt.subplots(ROWS, COLS)\n",
    "    fig.set_size_inches(COLS*4,ROWS*4)\n",
    "    axs = np.array(axs).flatten().tolist()\n",
    "    \n",
    "    for i, ax in enumerate(axs):\n",
    "        img = X[i,...]\n",
    "        class_label = loader.dataset.classes[y[i]]\n",
    "        ax.imshow(img.permute(1,2,0))\n",
    "    plt.show()\n",
    "    break"
   ]
  },
  {
   "cell_type": "markdown",
   "metadata": {},
   "source": [
    "Network definition and training\n",
    "\n",
    "Run network training - it spends very long time, so for only your code check you can run only one epoch.\n",
    "\n",
    "When you check your code back to 30 epochs :) ."
   ]
  },
  {
   "cell_type": "code",
   "execution_count": 50,
   "metadata": {},
   "outputs": [
    {
     "name": "stdout",
     "output_type": "stream",
     "text": [
      "CNN out map shape = [256, 3, 3]\n",
      "CNN out map numel = 2304\n",
      "Network paramerters number: 115855\n",
      "Epoch 1 / 30: STARTED\n",
      "TRAINING"
     ]
    },
    {
     "name": "stderr",
     "output_type": "stream",
     "text": [
      "938it [00:55, 17.03it/s]\n"
     ]
    },
    {
     "name": "stdout",
     "output_type": "stream",
     "text": [
      "VALIDATION"
     ]
    },
    {
     "name": "stderr",
     "output_type": "stream",
     "text": [
      "157it [00:07, 19.99it/s]\n"
     ]
    },
    {
     "name": "stdout",
     "output_type": "stream",
     "text": [
      "After epoch 1: loss=2.1452 acc=0.3088 val_loss=1.8961 val_acc=0.5638\n",
      "Epoch 1 / 30: FINISHED\n",
      "\n",
      "Epoch 2 / 30: STARTED\n",
      "TRAINING"
     ]
    },
    {
     "name": "stderr",
     "output_type": "stream",
     "text": [
      "938it [00:47, 19.84it/s]\n"
     ]
    },
    {
     "name": "stdout",
     "output_type": "stream",
     "text": [
      "VALIDATION"
     ]
    },
    {
     "name": "stderr",
     "output_type": "stream",
     "text": [
      "157it [00:07, 19.76it/s]\n"
     ]
    },
    {
     "name": "stdout",
     "output_type": "stream",
     "text": [
      "After epoch 2: loss=1.7564 acc=0.7033 val_loss=1.6876 val_acc=0.7726\n",
      "Epoch 2 / 30: FINISHED\n",
      "\n",
      "Epoch 3 / 30: STARTED\n",
      "TRAINING"
     ]
    },
    {
     "name": "stderr",
     "output_type": "stream",
     "text": [
      "938it [00:47, 19.90it/s]\n"
     ]
    },
    {
     "name": "stdout",
     "output_type": "stream",
     "text": [
      "VALIDATION"
     ]
    },
    {
     "name": "stderr",
     "output_type": "stream",
     "text": [
      "157it [00:07, 19.89it/s]\n"
     ]
    },
    {
     "name": "stdout",
     "output_type": "stream",
     "text": [
      "After epoch 3: loss=1.6824 acc=0.7778 val_loss=1.6676 val_acc=0.7926\n",
      "Epoch 3 / 30: FINISHED\n",
      "\n",
      "Epoch 4 / 30: STARTED\n",
      "TRAINING"
     ]
    },
    {
     "name": "stderr",
     "output_type": "stream",
     "text": [
      "938it [00:46, 19.96it/s]\n"
     ]
    },
    {
     "name": "stdout",
     "output_type": "stream",
     "text": [
      "VALIDATION"
     ]
    },
    {
     "name": "stderr",
     "output_type": "stream",
     "text": [
      "157it [00:07, 19.94it/s]\n"
     ]
    },
    {
     "name": "stdout",
     "output_type": "stream",
     "text": [
      "After epoch 4: loss=1.6182 acc=0.8423 val_loss=1.5809 val_acc=0.8794\n",
      "Epoch 4 / 30: FINISHED\n",
      "\n",
      "Epoch 5 / 30: STARTED\n",
      "TRAINING"
     ]
    },
    {
     "name": "stderr",
     "output_type": "stream",
     "text": [
      "938it [00:47, 19.79it/s]\n"
     ]
    },
    {
     "name": "stdout",
     "output_type": "stream",
     "text": [
      "VALIDATION"
     ]
    },
    {
     "name": "stderr",
     "output_type": "stream",
     "text": [
      "157it [00:07, 19.74it/s]\n"
     ]
    },
    {
     "name": "stdout",
     "output_type": "stream",
     "text": [
      "After epoch 5: loss=1.5847 acc=0.8754 val_loss=1.5774 val_acc=0.8823\n",
      "Epoch 5 / 30: FINISHED\n",
      "\n",
      "Epoch 6 / 30: STARTED\n",
      "TRAINING"
     ]
    },
    {
     "name": "stderr",
     "output_type": "stream",
     "text": [
      "938it [00:47, 19.87it/s]\n"
     ]
    },
    {
     "name": "stdout",
     "output_type": "stream",
     "text": [
      "VALIDATION"
     ]
    },
    {
     "name": "stderr",
     "output_type": "stream",
     "text": [
      "157it [00:07, 19.87it/s]\n"
     ]
    },
    {
     "name": "stdout",
     "output_type": "stream",
     "text": [
      "After epoch 6: loss=1.5792 acc=0.8807 val_loss=1.5754 val_acc=0.8841\n",
      "Epoch 6 / 30: FINISHED\n",
      "\n",
      "Epoch 7 / 30: STARTED\n",
      "TRAINING"
     ]
    },
    {
     "name": "stderr",
     "output_type": "stream",
     "text": [
      "938it [00:47, 19.78it/s]\n"
     ]
    },
    {
     "name": "stdout",
     "output_type": "stream",
     "text": [
      "VALIDATION"
     ]
    },
    {
     "name": "stderr",
     "output_type": "stream",
     "text": [
      "157it [00:07, 19.76it/s]\n"
     ]
    },
    {
     "name": "stdout",
     "output_type": "stream",
     "text": [
      "After epoch 7: loss=1.5758 acc=0.8835 val_loss=1.5732 val_acc=0.8858\n",
      "Epoch 7 / 30: FINISHED\n",
      "\n",
      "Epoch 8 / 30: STARTED\n",
      "TRAINING"
     ]
    },
    {
     "name": "stderr",
     "output_type": "stream",
     "text": [
      "938it [00:47, 19.84it/s]\n"
     ]
    },
    {
     "name": "stdout",
     "output_type": "stream",
     "text": [
      "VALIDATION"
     ]
    },
    {
     "name": "stderr",
     "output_type": "stream",
     "text": [
      "157it [00:07, 19.72it/s]\n"
     ]
    },
    {
     "name": "stdout",
     "output_type": "stream",
     "text": [
      "After epoch 8: loss=1.5724 acc=0.8861 val_loss=1.5716 val_acc=0.8864\n",
      "Epoch 8 / 30: FINISHED\n",
      "\n",
      "Epoch 9 / 30: STARTED\n",
      "TRAINING"
     ]
    },
    {
     "name": "stderr",
     "output_type": "stream",
     "text": [
      "938it [00:47, 19.80it/s]\n"
     ]
    },
    {
     "name": "stdout",
     "output_type": "stream",
     "text": [
      "VALIDATION"
     ]
    },
    {
     "name": "stderr",
     "output_type": "stream",
     "text": [
      "157it [00:07, 19.72it/s]\n"
     ]
    },
    {
     "name": "stdout",
     "output_type": "stream",
     "text": [
      "After epoch 9: loss=1.5714 acc=0.8870 val_loss=1.5720 val_acc=0.8865\n",
      "Epoch 9 / 30: FINISHED\n",
      "\n",
      "Epoch 10 / 30: STARTED\n",
      "TRAINING"
     ]
    },
    {
     "name": "stderr",
     "output_type": "stream",
     "text": [
      "938it [00:47, 19.76it/s]\n"
     ]
    },
    {
     "name": "stdout",
     "output_type": "stream",
     "text": [
      "VALIDATION"
     ]
    },
    {
     "name": "stderr",
     "output_type": "stream",
     "text": [
      "157it [00:07, 19.71it/s]\n"
     ]
    },
    {
     "name": "stdout",
     "output_type": "stream",
     "text": [
      "After epoch 10: loss=1.5702 acc=0.8881 val_loss=1.5704 val_acc=0.8879\n",
      "Epoch 10 / 30: FINISHED\n",
      "\n",
      "Epoch 11 / 30: STARTED\n",
      "TRAINING"
     ]
    },
    {
     "name": "stderr",
     "output_type": "stream",
     "text": [
      "938it [00:47, 19.81it/s]\n"
     ]
    },
    {
     "name": "stdout",
     "output_type": "stream",
     "text": [
      "VALIDATION"
     ]
    },
    {
     "name": "stderr",
     "output_type": "stream",
     "text": [
      "157it [00:08, 19.57it/s]\n"
     ]
    },
    {
     "name": "stdout",
     "output_type": "stream",
     "text": [
      "After epoch 11: loss=1.5402 acc=0.9190 val_loss=1.4809 val_acc=0.9809\n",
      "Epoch 11 / 30: FINISHED\n",
      "\n",
      "Epoch 12 / 30: STARTED\n",
      "TRAINING"
     ]
    },
    {
     "name": "stderr",
     "output_type": "stream",
     "text": [
      "938it [00:47, 19.68it/s]\n"
     ]
    },
    {
     "name": "stdout",
     "output_type": "stream",
     "text": [
      "VALIDATION"
     ]
    },
    {
     "name": "stderr",
     "output_type": "stream",
     "text": [
      "157it [00:07, 19.67it/s]\n"
     ]
    },
    {
     "name": "stdout",
     "output_type": "stream",
     "text": [
      "After epoch 12: loss=1.4746 acc=0.9871 val_loss=1.4753 val_acc=0.9860\n",
      "Epoch 12 / 30: FINISHED\n",
      "\n",
      "Epoch 13 / 30: STARTED\n",
      "TRAINING"
     ]
    },
    {
     "name": "stderr",
     "output_type": "stream",
     "text": [
      "938it [00:49, 19.11it/s]\n"
     ]
    },
    {
     "name": "stdout",
     "output_type": "stream",
     "text": [
      "VALIDATION"
     ]
    },
    {
     "name": "stderr",
     "output_type": "stream",
     "text": [
      "157it [00:07, 19.66it/s]\n"
     ]
    },
    {
     "name": "stdout",
     "output_type": "stream",
     "text": [
      "After epoch 13: loss=1.4720 acc=0.9896 val_loss=1.4772 val_acc=0.9845\n",
      "Epoch 13 / 30: FINISHED\n",
      "\n",
      "Epoch 14 / 30: STARTED\n",
      "TRAINING"
     ]
    },
    {
     "name": "stderr",
     "output_type": "stream",
     "text": [
      "938it [00:49, 19.11it/s]\n"
     ]
    },
    {
     "name": "stdout",
     "output_type": "stream",
     "text": [
      "VALIDATION"
     ]
    },
    {
     "name": "stderr",
     "output_type": "stream",
     "text": [
      "157it [00:08, 19.49it/s]\n"
     ]
    },
    {
     "name": "stdout",
     "output_type": "stream",
     "text": [
      "After epoch 14: loss=1.4706 acc=0.9911 val_loss=1.4749 val_acc=0.9864\n",
      "Epoch 14 / 30: FINISHED\n",
      "\n",
      "Epoch 15 / 30: STARTED\n",
      "TRAINING"
     ]
    },
    {
     "name": "stderr",
     "output_type": "stream",
     "text": [
      "938it [00:47, 19.62it/s]\n"
     ]
    },
    {
     "name": "stdout",
     "output_type": "stream",
     "text": [
      "VALIDATION"
     ]
    },
    {
     "name": "stderr",
     "output_type": "stream",
     "text": [
      "157it [00:07, 20.03it/s]\n"
     ]
    },
    {
     "name": "stdout",
     "output_type": "stream",
     "text": [
      "After epoch 15: loss=1.4706 acc=0.9910 val_loss=1.4769 val_acc=0.9844\n",
      "Epoch 15 / 30: FINISHED\n",
      "\n",
      "Epoch 16 / 30: STARTED\n",
      "TRAINING"
     ]
    },
    {
     "name": "stderr",
     "output_type": "stream",
     "text": [
      "938it [00:47, 19.55it/s]\n"
     ]
    },
    {
     "name": "stdout",
     "output_type": "stream",
     "text": [
      "VALIDATION"
     ]
    },
    {
     "name": "stderr",
     "output_type": "stream",
     "text": [
      "157it [00:08, 19.43it/s]\n"
     ]
    },
    {
     "name": "stdout",
     "output_type": "stream",
     "text": [
      "After epoch 16: loss=1.4696 acc=0.9919 val_loss=1.4737 val_acc=0.9878\n",
      "Epoch 16 / 30: FINISHED\n",
      "\n",
      "Epoch 17 / 30: STARTED\n",
      "TRAINING"
     ]
    },
    {
     "name": "stderr",
     "output_type": "stream",
     "text": [
      "938it [00:48, 19.45it/s]\n"
     ]
    },
    {
     "name": "stdout",
     "output_type": "stream",
     "text": [
      "VALIDATION"
     ]
    },
    {
     "name": "stderr",
     "output_type": "stream",
     "text": [
      "157it [00:07, 19.75it/s]\n"
     ]
    },
    {
     "name": "stdout",
     "output_type": "stream",
     "text": [
      "After epoch 17: loss=1.4690 acc=0.9926 val_loss=1.4731 val_acc=0.9878\n",
      "Epoch 17 / 30: FINISHED\n",
      "\n",
      "Epoch 18 / 30: STARTED\n",
      "TRAINING"
     ]
    },
    {
     "name": "stderr",
     "output_type": "stream",
     "text": [
      "938it [00:49, 18.80it/s]\n"
     ]
    },
    {
     "name": "stdout",
     "output_type": "stream",
     "text": [
      "VALIDATION"
     ]
    },
    {
     "name": "stderr",
     "output_type": "stream",
     "text": [
      "157it [00:08, 19.16it/s]\n"
     ]
    },
    {
     "name": "stdout",
     "output_type": "stream",
     "text": [
      "After epoch 18: loss=1.4686 acc=0.9929 val_loss=1.4749 val_acc=0.9859\n",
      "Epoch 18 / 30: FINISHED\n",
      "\n",
      "Epoch 19 / 30: STARTED\n",
      "TRAINING"
     ]
    },
    {
     "name": "stderr",
     "output_type": "stream",
     "text": [
      "938it [00:45, 20.81it/s]\n"
     ]
    },
    {
     "name": "stdout",
     "output_type": "stream",
     "text": [
      "VALIDATION"
     ]
    },
    {
     "name": "stderr",
     "output_type": "stream",
     "text": [
      "157it [00:08, 17.94it/s]\n"
     ]
    },
    {
     "name": "stdout",
     "output_type": "stream",
     "text": [
      "After epoch 19: loss=1.4680 acc=0.9936 val_loss=1.4744 val_acc=0.9869\n",
      "Epoch 19 / 30: FINISHED\n",
      "\n",
      "Epoch 20 / 30: STARTED\n",
      "TRAINING"
     ]
    },
    {
     "name": "stderr",
     "output_type": "stream",
     "text": [
      "938it [00:47, 19.74it/s]\n"
     ]
    },
    {
     "name": "stdout",
     "output_type": "stream",
     "text": [
      "VALIDATION"
     ]
    },
    {
     "name": "stderr",
     "output_type": "stream",
     "text": [
      "157it [00:07, 20.13it/s]\n"
     ]
    },
    {
     "name": "stdout",
     "output_type": "stream",
     "text": [
      "After epoch 20: loss=1.4676 acc=0.9938 val_loss=1.4714 val_acc=0.9901\n",
      "Epoch 20 / 30: FINISHED\n",
      "\n",
      "Epoch 21 / 30: STARTED\n",
      "TRAINING"
     ]
    },
    {
     "name": "stderr",
     "output_type": "stream",
     "text": [
      "938it [00:46, 20.25it/s]\n"
     ]
    },
    {
     "name": "stdout",
     "output_type": "stream",
     "text": [
      "VALIDATION"
     ]
    },
    {
     "name": "stderr",
     "output_type": "stream",
     "text": [
      "157it [00:07, 19.94it/s]\n"
     ]
    },
    {
     "name": "stdout",
     "output_type": "stream",
     "text": [
      "After epoch 21: loss=1.4673 acc=0.9941 val_loss=1.4723 val_acc=0.9890\n",
      "Epoch 21 / 30: FINISHED\n",
      "\n",
      "Epoch 22 / 30: STARTED\n",
      "TRAINING"
     ]
    },
    {
     "name": "stderr",
     "output_type": "stream",
     "text": [
      "938it [00:46, 20.07it/s]\n"
     ]
    },
    {
     "name": "stdout",
     "output_type": "stream",
     "text": [
      "VALIDATION"
     ]
    },
    {
     "name": "stderr",
     "output_type": "stream",
     "text": [
      "157it [00:07, 19.96it/s]\n"
     ]
    },
    {
     "name": "stdout",
     "output_type": "stream",
     "text": [
      "After epoch 22: loss=1.4668 acc=0.9947 val_loss=1.4708 val_acc=0.9906\n",
      "Epoch 22 / 30: FINISHED\n",
      "\n",
      "Epoch 23 / 30: STARTED\n",
      "TRAINING"
     ]
    },
    {
     "name": "stderr",
     "output_type": "stream",
     "text": [
      "938it [00:47, 19.95it/s]\n"
     ]
    },
    {
     "name": "stdout",
     "output_type": "stream",
     "text": [
      "VALIDATION"
     ]
    },
    {
     "name": "stderr",
     "output_type": "stream",
     "text": [
      "157it [00:07, 20.05it/s]\n"
     ]
    },
    {
     "name": "stdout",
     "output_type": "stream",
     "text": [
      "After epoch 23: loss=1.4664 acc=0.9951 val_loss=1.4712 val_acc=0.9900\n",
      "Epoch 23 / 30: FINISHED\n",
      "\n",
      "Epoch 24 / 30: STARTED\n",
      "TRAINING"
     ]
    },
    {
     "name": "stderr",
     "output_type": "stream",
     "text": [
      "938it [00:46, 19.98it/s]\n"
     ]
    },
    {
     "name": "stdout",
     "output_type": "stream",
     "text": [
      "VALIDATION"
     ]
    },
    {
     "name": "stderr",
     "output_type": "stream",
     "text": [
      "157it [00:07, 20.08it/s]\n"
     ]
    },
    {
     "name": "stdout",
     "output_type": "stream",
     "text": [
      "After epoch 24: loss=1.4663 acc=0.9952 val_loss=1.4717 val_acc=0.9894\n",
      "Epoch 24 / 30: FINISHED\n",
      "\n",
      "Epoch 25 / 30: STARTED\n",
      "TRAINING"
     ]
    },
    {
     "name": "stderr",
     "output_type": "stream",
     "text": [
      "938it [00:47, 19.82it/s]\n"
     ]
    },
    {
     "name": "stdout",
     "output_type": "stream",
     "text": [
      "VALIDATION"
     ]
    },
    {
     "name": "stderr",
     "output_type": "stream",
     "text": [
      "157it [00:07, 19.93it/s]\n"
     ]
    },
    {
     "name": "stdout",
     "output_type": "stream",
     "text": [
      "After epoch 25: loss=1.4658 acc=0.9957 val_loss=1.4714 val_acc=0.9899\n",
      "Epoch 25 / 30: FINISHED\n",
      "\n",
      "Epoch 26 / 30: STARTED\n",
      "TRAINING"
     ]
    },
    {
     "name": "stderr",
     "output_type": "stream",
     "text": [
      "938it [00:47, 19.94it/s]\n"
     ]
    },
    {
     "name": "stdout",
     "output_type": "stream",
     "text": [
      "VALIDATION"
     ]
    },
    {
     "name": "stderr",
     "output_type": "stream",
     "text": [
      "157it [00:07, 19.88it/s]\n"
     ]
    },
    {
     "name": "stdout",
     "output_type": "stream",
     "text": [
      "After epoch 26: loss=1.4653 acc=0.9961 val_loss=1.4708 val_acc=0.9907\n",
      "Epoch 26 / 30: FINISHED\n",
      "\n",
      "Epoch 27 / 30: STARTED\n",
      "TRAINING"
     ]
    },
    {
     "name": "stderr",
     "output_type": "stream",
     "text": [
      "938it [00:47, 19.69it/s]\n"
     ]
    },
    {
     "name": "stdout",
     "output_type": "stream",
     "text": [
      "VALIDATION"
     ]
    },
    {
     "name": "stderr",
     "output_type": "stream",
     "text": [
      "157it [00:08, 19.38it/s]\n"
     ]
    },
    {
     "name": "stdout",
     "output_type": "stream",
     "text": [
      "After epoch 27: loss=1.4654 acc=0.9961 val_loss=1.4720 val_acc=0.9895\n",
      "Epoch 27 / 30: FINISHED\n",
      "\n",
      "Epoch 28 / 30: STARTED\n",
      "TRAINING"
     ]
    },
    {
     "name": "stderr",
     "output_type": "stream",
     "text": [
      "938it [00:47, 19.69it/s]\n"
     ]
    },
    {
     "name": "stdout",
     "output_type": "stream",
     "text": [
      "VALIDATION"
     ]
    },
    {
     "name": "stderr",
     "output_type": "stream",
     "text": [
      "157it [00:07, 19.98it/s]\n"
     ]
    },
    {
     "name": "stdout",
     "output_type": "stream",
     "text": [
      "After epoch 28: loss=1.4651 acc=0.9964 val_loss=1.4701 val_acc=0.9915\n",
      "Epoch 28 / 30: FINISHED\n",
      "\n",
      "Epoch 29 / 30: STARTED\n",
      "TRAINING"
     ]
    },
    {
     "name": "stderr",
     "output_type": "stream",
     "text": [
      "938it [00:47, 19.87it/s]\n"
     ]
    },
    {
     "name": "stdout",
     "output_type": "stream",
     "text": [
      "VALIDATION"
     ]
    },
    {
     "name": "stderr",
     "output_type": "stream",
     "text": [
      "157it [00:07, 19.71it/s]\n"
     ]
    },
    {
     "name": "stdout",
     "output_type": "stream",
     "text": [
      "After epoch 29: loss=1.4644 acc=0.9971 val_loss=1.4710 val_acc=0.9907\n",
      "Epoch 29 / 30: FINISHED\n",
      "\n",
      "Epoch 30 / 30: STARTED\n",
      "TRAINING"
     ]
    },
    {
     "name": "stderr",
     "output_type": "stream",
     "text": [
      "938it [00:47, 19.81it/s]\n"
     ]
    },
    {
     "name": "stdout",
     "output_type": "stream",
     "text": [
      "VALIDATION"
     ]
    },
    {
     "name": "stderr",
     "output_type": "stream",
     "text": [
      "157it [00:07, 19.73it/s]"
     ]
    },
    {
     "name": "stdout",
     "output_type": "stream",
     "text": [
      "After epoch 30: loss=1.4645 acc=0.9970 val_loss=1.4698 val_acc=0.9916\n",
      "Epoch 30 / 30: FINISHED\n",
      "\n"
     ]
    },
    {
     "name": "stderr",
     "output_type": "stream",
     "text": [
      "\n"
     ]
    }
   ],
   "source": [
    "from brevitas.nn import QuantConv2d, QuantIdentity\n",
    "from brevitas.quant.scaled_int import Int8WeightPerTensorFloat, \\\n",
    "    Int8BiasPerTensorFloatInternalScaling, Int8ActPerTensorFloat\n",
    "\n",
    "\n",
    "class NeuralNetwork(nn.Module):\n",
    "    def __init__(self, \n",
    "                 input_shape=(1,28,28), \n",
    "                 num_of_classes=10,\n",
    "                 channels = [16,32,64,128], # number of conv filters \n",
    "                 ksize   =  [3, 3, 3, 3], # kernels sizes\n",
    "                 padding =  [1, 1, 0, 0], # padding sizes\n",
    "                 max_pool = [1, 1, 0, 0], # use maxpool after conv or not\n",
    "                 quantize=True,\n",
    "                 bit_width=4\n",
    "                 ) -> None:\n",
    "        super().__init__()\n",
    "        channels = [input_shape[0]]+channels\n",
    "        padding = [1,1,0,0]\n",
    "        max_pool = [1,1,0,0]\n",
    "        \n",
    "        if quantize:\n",
    "            input_quant = QuantIdentity(Int8ActPerTensorFloat, min_val=-1.0, max_val=1.0, bit_width=bit_width)\n",
    "        else:\n",
    "            input_quant = QuantIdentity(None)\n",
    "        \n",
    "        layers = []\n",
    "        self.conv_layers = []\n",
    "        map_shape = [input_shape[0],input_shape[1],input_shape[2]]\n",
    "        for i, (ch_in, ch_out, ks, p, mp) in enumerate(zip(channels[:-1],\n",
    "                                                       channels[1:],\n",
    "                                                       ksize,\n",
    "                                                       padding,\n",
    "                                                       max_pool)):\n",
    "            conv = QuantConv2d(ch_in, ch_out, ks, padding=p, bias=True, \n",
    "                               weight_quant=Int8WeightPerTensorFloat if quantize else None,\n",
    "                               bias_quant=Int8BiasPerTensorFloatInternalScaling if quantize else None,\n",
    "                               weight_bit_width=bit_width,\n",
    "                               bias_bit_width=bit_width,\n",
    "                               return_quant_tensor=False\n",
    "                               )\n",
    "            # shape modification\n",
    "            map_shape[0] = ch_out\n",
    "            map_shape[1] = map_shape[1] - 2*(ks//2 - p)\n",
    "            map_shape[2] = map_shape[2] - 2*(ks//2 - p)\n",
    "            \n",
    "            # store conv layers for further analysis and prunning\n",
    "            self.conv_layers.append(conv)\n",
    "            # add to all layers\n",
    "            layers.append(conv)\n",
    "            \n",
    "            if quantize:\n",
    "                out_quant = QuantIdentity(Int8ActPerTensorFloat, min_val=-1.0, max_val=1.0, bit_width=bit_width)\n",
    "            else:\n",
    "                out_quant = QuantIdentity(None)\n",
    "            \n",
    "            layers.append(out_quant)\n",
    "            relu = nn.ReLU()\n",
    "            layers.append(relu)\n",
    "            \n",
    "            if mp:\n",
    "                maxpool = nn.MaxPool2d(2,2)\n",
    "                # shape modification\n",
    "                map_shape[1] = map_shape[1] // 2\n",
    "                map_shape[2] = map_shape[2] // 2\n",
    "                layers.append(maxpool)\n",
    "        \n",
    "        self.CNN = nn.Sequential(input_quant, *tuple(layers))\n",
    "        \n",
    "        CNN_flatten_len = torch.prod(torch.tensor(map_shape))\n",
    "        print(f\"CNN out map shape = {map_shape}\")\n",
    "        print(f\"CNN out map numel = {CNN_flatten_len}\")\n",
    "        self.flatten = nn.Flatten()\n",
    "        self.FC = nn.Linear(CNN_flatten_len, num_of_classes)\n",
    "        self.sm = nn.Softmax(1)\n",
    "    \n",
    "    def forward(self, x: torch.Tensor):\n",
    "        x = self.CNN(x)\n",
    "        x = self.flatten(x)\n",
    "        x = self.FC(x)\n",
    "        x = self.sm(x)\n",
    "        return x\n",
    "\n",
    "set_random_seed(0)\n",
    "net = NeuralNetwork(input_shape=(1,28,28), \n",
    "                    num_of_classes=10,\n",
    "                    channels = [32,32,32,32], # number of conv filters \n",
    "                    ksize   =  [3, 3, 3, 3], # kernels sizes\n",
    "                    padding =  [1, 1, 0, 0], # padding sizes\n",
    "                    max_pool = [1, 1, 0, 0], # use maxpool after conv or not\n",
    "                    quantize=True\n",
    "                    ).to(device)\n",
    "net_param_number = lu.count_params(net)\n",
    "print(f\"Network paramerters number: {net_param_number}\")\n",
    "\n",
    "set_random_seed(0)\n",
    "metric = lu.AccuracyMetic()\n",
    "criterion = torch.nn.CrossEntropyLoss()\n",
    "optimizer = torch.optim.SGD(net.parameters(), lr=0.1, momentum=0.8, weight_decay=0.0001)\n",
    "\n",
    "set_random_seed(0)\n",
    "net, history = lu.training(net, train_loader, test_loader, criterion, metric, optimizer, 5, 30, device=device)"
   ]
  },
  {
   "cell_type": "markdown",
   "metadata": {},
   "source": [
    "1. Extract state dict from each conv layer (`net.conv_layers` is a list of Conv2d submodules) and store it in a list `state_dicts_float`.\n",
    "\n",
    "Create second list `state_dicts_quant` with the same structure, \n",
    "\n",
    "but extract weights and biases after applied quantization (`.quant_weight()`, `.quant_bias()` -> `QuantTensor` - extract float tensor from it).\n",
    "\n",
    "Also create `state_dicts_quant_2` as a copy of `state_dicts_quant` elements - deep copy.\n",
    "\n",
    "Print layer index (in list) and shapes of weights and biases.\n",
    "\n",
    "Extract state dict of FC subnetwork. \n",
    "Store it as `sd_fc` and copy to `sd_fc_2`. \n",
    "Print weight and bias shapes for FC layer.\n",
    "\n",
    "\n",
    "Compare (display Sum of Absolute Difference value) weight for first convolution before(float) and after quantization.\n",
    "\n",
    "Note: state dict of Conv2d and QuantConv2d contains: `weight` and `bias` (optional) keys only.\n",
    "\n",
    "Remember about `torch.no_grad()` context"
   ]
  },
  {
   "cell_type": "code",
   "execution_count": null,
   "metadata": {},
   "outputs": [],
   "source": [
    "\n",
    "state_dicts_float: List[Dict[str, torch.Tensor]] = []\n",
    "state_dicts_quant: List[Dict[str, torch.Tensor]] = []\n",
    "state_dicts_quant_2: List[Dict[str, torch.Tensor]] = []\n",
    "sd_fc = None\n",
    "sd_fc_2 = None\n",
    "\n",
    "with torch.no_grad():\n",
    "    for i, L in enumerate(net.conv_layers):\n",
    "        L: QuantConv2d = L\n",
    "        ...\n",
    "..."
   ]
  },
  {
   "cell_type": "code",
   "execution_count": 52,
   "metadata": {},
   "outputs": [],
   "source": [
    "def get_mask(parameter: torch.Tensor, threshold: float):\n",
    "    \"\"\"\n",
    "    Function returns the mask of filters which should not be removed. \n",
    "\n",
    "    :param parameter: weight tensor with shape = (num_of_filters, input_channels, Optional[kernel_height, kernel_width]]\n",
    "    :param threshold float: threshold value - cos of \"angle\" between filters \n",
    "    :return: tensor - bool mask\n",
    "    \"\"\"\n",
    "    original_shape = parameter.shape\n",
    "    parameter = parameter.reshape(original_shape[0],-1)\n",
    "    parameter = parameter / (parameter.square().sum(1).reshape(-1,1).sqrt())\n",
    "    \n",
    "    # correlation matrix\n",
    "    corr = torch.matmul(parameter, parameter.transpose(0,1))\n",
    "    \n",
    "    # highly correlated filters mask \n",
    "    corr_mask = corr.abs() > threshold\n",
    "\n",
    "    # print(corr.shape)\n",
    "    \n",
    "    # over diagonal matrix\n",
    "    row_idx, col_idx = torch.meshgrid(torch.arange(0,corr.shape[0]), torch.arange(0,corr.shape[0]),)\n",
    "    analysis_mask = col_idx > row_idx\n",
    "    \n",
    "    # over diagonal part of mask\n",
    "    filters_correlation = corr_mask * analysis_mask.to(parameter.device)\n",
    "\n",
    "    channels_mask = filters_correlation.sum(0) == 0\n",
    "    \n",
    "    return channels_mask\n"
   ]
  },
  {
   "cell_type": "markdown",
   "metadata": {},
   "source": [
    "2. Calculate pruning masks (`get_mask`) for each quantized weights from `state_dicts_quant` list.\n",
    "\n",
    "Store them in list `masks`.\n",
    "\n",
    "Calculate number of filters of convolutional layers after pruning for each layer\n",
    "\n",
    "and print it.\n",
    "\n",
    "Use thresholds for next CNN layers: `thresholds = [0.5, 0.5, 0.5, 0.5]`\n",
    "\n",
    "Hint: work on copy of weights - `torch.Tensor.clone` "
   ]
  },
  {
   "cell_type": "code",
   "execution_count": 53,
   "metadata": {},
   "outputs": [
    {
     "name": "stdout",
     "output_type": "stream",
     "text": [
      "Layer 0: filters after pruning: 30\n",
      "Layer 1: filters after pruning: 25\n",
      "Layer 2: filters after pruning: 28\n",
      "Layer 3: filters after pruning: 137\n"
     ]
    }
   ],
   "source": [
    "masks: List[torch.Tensor] = []\n",
    "num_of_filters_after_pruning = []\n",
    "thresholds = [0.5, 0.5, 0.5, 0.5]\n",
    "\n",
    "for i, (sd_q, th) in enumerate(zip(state_dicts_quant, thresholds)):\n",
    "    w = sd_q['weight'].clone()\n",
    "    ...\n",
    "    \n",
    "    masks.append(...)\n",
    "    num_of_filters_after_pruning.append(...)\n",
    "    \n",
    "    print(f\"Layer {i}: filters after pruning: {f}\")"
   ]
  },
  {
   "cell_type": "markdown",
   "metadata": {},
   "source": [
    "3. Slice weights and biases from `state_dicts_quant` based on created `masks`.\n",
    "\n",
    "Results assign to proper indices and keys of `state_dicts_quant_2`.\n",
    "\n",
    "Slice weight of fc layer from `sd_fc` and result assign to `sd_fc_2` based on last mask.\n",
    "\n",
    "Print shapes of weights and biases.\n",
    "\n",
    "Note: Pruning of channels one layer affects to next one layer, but not to the previous layer.\n",
    "\n",
    "Note: bias is related with layer output channel.\n",
    "\n",
    "Note: first layer must contain the same number of input channels.\n",
    "\n",
    "Hint: For slicing of few dimensions, use it separately on results of previous dim slice.\n",
    "\n",
    "Hint: Do it in loop: store mask for previous mask as variable like `prev_mask`.\n",
    "\n",
    "For init `prev_mask` use tensor of True and shape (1,) - input channels.\n",
    "\n",
    "Note: Fc layer is forwarded by flatten layer ((BS,CH,H,W) -> (BS, CH * H * W)), \n",
    "\n",
    "so the input mask should be properly modified:\n",
    "\n",
    "```fc_in_mask = prev_mask.reshape(-1,1,1).tile(1,H,W).flatten()```\n",
    "\n",
    "CH,H,W sizes are printed, when the network is instantiated. "
   ]
  },
  {
   "cell_type": "code",
   "execution_count": 54,
   "metadata": {},
   "outputs": [
    {
     "name": "stdout",
     "output_type": "stream",
     "text": [
      "Layer 0: weight: torch.Size([30, 1, 3, 3])\n",
      "Layer 0: bias: torch.Size([30])\n",
      "Layer 1: weight: torch.Size([25, 30, 3, 3])\n",
      "Layer 1: bias: torch.Size([25])\n",
      "Layer 2: weight: torch.Size([28, 25, 3, 3])\n",
      "Layer 2: bias: torch.Size([28])\n",
      "Layer 3: weight: torch.Size([137, 28, 3, 3])\n",
      "Layer 3: bias: torch.Size([137])\n",
      "Layer FC: weight: torch.Size([10, 1233])\n",
      "Layer FC: bias: torch.Size([10, 2304])\n"
     ]
    }
   ],
   "source": [
    "prev_mask = torch.ones((1,), dtype=torch.bool, device=device)\n",
    "\n",
    "for i, (mask, sd_q, sd_q_2) in enumerate(zip(masks, state_dicts_quant, state_dicts_quant_2)):\n",
    "    ...\n",
    "    \n",
    "    print(f\"Layer {i}: weight: {w.shape}\")\n",
    "    print(f\"Layer {i}: bias: {b.shape}\")\n",
    "    prev_mask = mask.clone()\n",
    "\n",
    "fc_in_mask = prev_mask.reshape(-1,1,1).tile(1,3,3).flatten()\n",
    "\n",
    "w = ...\n",
    "b = ...\n",
    "sd_fc_2['weight'] = ...\n",
    "\n",
    "print(f\"Layer FC: weight: {w.shape}\")\n",
    "print(f\"Layer FC: bias: {b.shape}\")"
   ]
  },
  {
   "cell_type": "markdown",
   "metadata": {},
   "source": [
    "4. Instantiate second `NeuralNetwork` as `net_2` with channels number defined by `num_of_filters_after_pruning`.\n",
    "\n",
    "Initialize conv subnetwork (`net_2.conv_layers`) with state dicts from `state_dicts_quant_2`.\n",
    "\n",
    "Initialize FC layer with `sd_fc_2`.\n",
    "\n",
    "Print number of parameters."
   ]
  },
  {
   "cell_type": "code",
   "execution_count": 55,
   "metadata": {},
   "outputs": [
    {
     "name": "stdout",
     "output_type": "stream",
     "text": [
      "CNN out map shape = [137, 3, 3]\n",
      "CNN out map numel = 1233\n",
      "Network parameters number: 60409\n"
     ]
    }
   ],
   "source": [
    "set_random_seed(0)\n",
    "net_2 = NeuralNetwork(input_shape=(1,28,28), \n",
    "                      num_of_classes=10,\n",
    "                      channels = ..., # number of conv filters \n",
    "                      ksize   =  [3, 3, 3, 3], # kernels sizes\n",
    "                      padding =  [1, 1, 0, 0], # padding sizes\n",
    "                      max_pool = [1, 1, 0, 0], # use maxpool after conv or not\n",
    "                      quantize=True\n",
    "                      ).to(device)\n",
    "...\n",
    "\n",
    "print(f\"Network parameters number: {net_2_param_number}\")"
   ]
  },
  {
   "cell_type": "markdown",
   "metadata": {},
   "source": [
    "5. Calculate accuracy and loss for training and validation datasets.\n"
   ]
  },
  {
   "cell_type": "code",
   "execution_count": 56,
   "metadata": {},
   "outputs": [
    {
     "name": "stderr",
     "output_type": "stream",
     "text": [
      "938it [00:38, 24.23it/s]\n"
     ]
    },
    {
     "name": "stdout",
     "output_type": "stream",
     "text": [
      "2.157855923207601 0.8377333333333333\n"
     ]
    },
    {
     "name": "stderr",
     "output_type": "stream",
     "text": [
      "157it [00:06, 25.38it/s]"
     ]
    },
    {
     "name": "stdout",
     "output_type": "stream",
     "text": [
      "2.1581057594299318 0.8423\n"
     ]
    },
    {
     "name": "stderr",
     "output_type": "stream",
     "text": [
      "\n"
     ]
    }
   ],
   "source": [
    "loss, acc = lu.train_test_pass(...,\n",
    "                               ...,\n",
    "                               ...,\n",
    "                               ...,\n",
    "                               optimizer=None,\n",
    "                               update_period=None,\n",
    "                               mode='test',\n",
    "                               device=device)[1:]\n",
    "print(loss, acc)\n",
    "loss, acc = lu.train_test_pass(...,\n",
    "                               ...,\n",
    "                               ...,\n",
    "                               ...,\n",
    "                               optimizer=None,\n",
    "                               update_period=None,\n",
    "                               mode='test',\n",
    "                               device=device)[1:]\n",
    "print(loss, acc)"
   ]
  },
  {
   "cell_type": "markdown",
   "metadata": {},
   "source": [
    "6. *Aditional: Try 5 different thresholds setting (5 lists of settings) for `get_mask` function.\n",
    "\n",
    "Print resulted sizes."
   ]
  },
  {
   "cell_type": "code",
   "execution_count": null,
   "metadata": {},
   "outputs": [],
   "source": []
  },
  {
   "cell_type": "markdown",
   "metadata": {},
   "source": [
    "9. **Additional: Fine tune pruned model (`net_2`) - train it."
   ]
  },
  {
   "cell_type": "code",
   "execution_count": null,
   "metadata": {},
   "outputs": [],
   "source": []
  },
  {
   "cell_type": "markdown",
   "metadata": {},
   "source": [
    "6. You can leave a feedback, if you want :)"
   ]
  },
  {
   "cell_type": "markdown",
   "metadata": {},
   "source": []
  },
  {
   "cell_type": "markdown",
   "metadata": {},
   "source": [
    "7. Exercises please upload this file (*.ipynb) to UPEL."
   ]
  },
  {
   "cell_type": "markdown",
   "metadata": {},
   "source": []
  }
 ],
 "metadata": {
  "kernelspec": {
   "display_name": "Python 3.8.10 64-bit",
   "language": "python",
   "name": "python3"
  },
  "language_info": {
   "codemirror_mode": {
    "name": "ipython",
    "version": 3
   },
   "file_extension": ".py",
   "mimetype": "text/x-python",
   "name": "python",
   "nbconvert_exporter": "python",
   "pygments_lexer": "ipython3",
   "version": "3.8.10"
  },
  "orig_nbformat": 4,
  "vscode": {
   "interpreter": {
    "hash": "e7370f93d1d0cde622a1f8e1c04877d8463912d04d973331ad4851f04de6915a"
   }
  }
 },
 "nbformat": 4,
 "nbformat_minor": 2
}
