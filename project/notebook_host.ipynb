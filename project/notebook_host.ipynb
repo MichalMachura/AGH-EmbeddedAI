{
 "cells": [
  {
   "attachments": {},
   "cell_type": "markdown",
   "metadata": {},
   "source": [
    "## TensorRT\n",
    "TensorRT is a library delivered by NVIDIA.\n",
    "\n",
    "It allows for efficient inference computation of neural networks models.\n",
    "\n",
    "Library delivers many tools like model optimization or pruning.\n",
    "\n",
    "Access to mentioned functionality is available for may popular DNN frameworks like PyTorch or Tensor-Flow.\n",
    "\n",
    "Presented notebook shows usage of library on the example of semantic segmentation.\n",
    "\n",
    "The goal of semantic segmentation is to assign a class (in some cases classes) for each pixel of image.\n",
    "\n",
    "Pixels that are the part of the object(s) of the same type/class should have the same class.\n",
    "\n",
    "For that task for a single image we need to assign array of the same size with class ids or \n",
    "\n",
    "n boolean arrays - each represents separate class.     \n",
    "\n",
    "Your task is to design Deep Neural Network architecture to achieve \n",
    "\n",
    "Binary Accuracy metric higher than 0.99 on validation dataset.\n",
    "\n",
    "\n",
    "Helpful links:\n",
    "- U-net https://arxiv.org/pdf/1505.04597v1.pdf\n",
    "- Semantic segmentation datasets - https://paperswithcode.com/task/semantic-segmentation\n",
    "- Autoencoders - https://towardsdatascience.com/applied-deep-learning-part-3-autoencoders-1c083af4d798\n",
    "- Autoencoders - https://en.wikipedia.org/wiki/Autoencoder"
   ]
  },
  {
   "attachments": {},
   "cell_type": "markdown",
   "metadata": {},
   "source": [
    "Install required packages (if not installed):"
   ]
  },
  {
   "cell_type": "code",
   "execution_count": 1,
   "metadata": {
    "vscode": {
     "languageId": "python"
    }
   },
   "outputs": [
    {
     "name": "stdout",
     "output_type": "stream",
     "text": [
      "Defaulting to user installation because normal site-packages is not writeable\n",
      "Looking in indexes: https://pypi.org/simple, https://pypi.ngc.nvidia.com\n",
      "Requirement already satisfied: nvidia-pyindex in /home/michal/.local/lib/python3.10/site-packages (1.0.9)\n",
      "Requirement already satisfied: nvidia-tensorrt in /home/michal/.local/lib/python3.10/site-packages (8.4.3.1)\n",
      "Requirement already satisfied: tensorflow in /home/michal/.local/lib/python3.10/site-packages (2.11.0)\n",
      "Requirement already satisfied: nvidia-cublas-cu11 in /home/michal/.local/lib/python3.10/site-packages (from nvidia-tensorrt) (2022.4.8)\n",
      "Requirement already satisfied: nvidia-cudnn-cu11 in /home/michal/.local/lib/python3.10/site-packages (from nvidia-tensorrt) (2022.5.19)\n",
      "Requirement already satisfied: nvidia-cuda-runtime-cu11 in /home/michal/.local/lib/python3.10/site-packages (from nvidia-tensorrt) (2022.4.25)\n",
      "Requirement already satisfied: tensorflow-io-gcs-filesystem>=0.23.1 in /home/michal/.local/lib/python3.10/site-packages (from tensorflow) (0.29.0)\n",
      "Requirement already satisfied: flatbuffers>=2.0 in /home/michal/.local/lib/python3.10/site-packages (from tensorflow) (23.1.4)\n",
      "Requirement already satisfied: tensorboard<2.12,>=2.11 in /home/michal/.local/lib/python3.10/site-packages (from tensorflow) (2.11.0)\n",
      "Requirement already satisfied: wrapt>=1.11.0 in /home/michal/.local/lib/python3.10/site-packages (from tensorflow) (1.14.1)\n",
      "Requirement already satisfied: grpcio<2.0,>=1.24.3 in /home/michal/.local/lib/python3.10/site-packages (from tensorflow) (1.51.1)\n",
      "Requirement already satisfied: protobuf<3.20,>=3.9.2 in /usr/lib/python3/dist-packages (from tensorflow) (3.12.4)\n",
      "Requirement already satisfied: numpy>=1.20 in /home/michal/.local/lib/python3.10/site-packages (from tensorflow) (1.24.1)\n",
      "Requirement already satisfied: keras<2.12,>=2.11.0 in /home/michal/.local/lib/python3.10/site-packages (from tensorflow) (2.11.0)\n",
      "Requirement already satisfied: h5py>=2.9.0 in /home/michal/.local/lib/python3.10/site-packages (from tensorflow) (3.7.0)\n",
      "Requirement already satisfied: six>=1.12.0 in /usr/lib/python3/dist-packages (from tensorflow) (1.16.0)\n",
      "Requirement already satisfied: packaging in /usr/lib/python3/dist-packages (from tensorflow) (21.3)\n",
      "Requirement already satisfied: tensorflow-estimator<2.12,>=2.11.0 in /home/michal/.local/lib/python3.10/site-packages (from tensorflow) (2.11.0)\n",
      "Requirement already satisfied: gast<=0.4.0,>=0.2.1 in /home/michal/.local/lib/python3.10/site-packages (from tensorflow) (0.4.0)\n",
      "Requirement already satisfied: setuptools in /usr/lib/python3/dist-packages (from tensorflow) (59.6.0)\n",
      "Requirement already satisfied: opt-einsum>=2.3.2 in /home/michal/.local/lib/python3.10/site-packages (from tensorflow) (3.3.0)\n",
      "Requirement already satisfied: typing-extensions>=3.6.6 in /home/michal/.local/lib/python3.10/site-packages (from tensorflow) (4.4.0)\n",
      "Requirement already satisfied: astunparse>=1.6.0 in /home/michal/.local/lib/python3.10/site-packages (from tensorflow) (1.6.3)\n",
      "Requirement already satisfied: termcolor>=1.1.0 in /home/michal/.local/lib/python3.10/site-packages (from tensorflow) (2.2.0)\n",
      "Requirement already satisfied: libclang>=13.0.0 in /home/michal/.local/lib/python3.10/site-packages (from tensorflow) (15.0.6.1)\n",
      "Requirement already satisfied: absl-py>=1.0.0 in /home/michal/.local/lib/python3.10/site-packages (from tensorflow) (1.4.0)\n",
      "Requirement already satisfied: google-pasta>=0.1.1 in /home/michal/.local/lib/python3.10/site-packages (from tensorflow) (0.2.0)\n",
      "Requirement already satisfied: wheel<1.0,>=0.23.0 in /usr/lib/python3/dist-packages (from astunparse>=1.6.0->tensorflow) (0.37.1)\n",
      "Requirement already satisfied: requests<3,>=2.21.0 in /usr/lib/python3/dist-packages (from tensorboard<2.12,>=2.11->tensorflow) (2.25.1)\n",
      "Requirement already satisfied: markdown>=2.6.8 in /home/michal/.local/lib/python3.10/site-packages (from tensorboard<2.12,>=2.11->tensorflow) (3.4.1)\n",
      "Requirement already satisfied: google-auth-oauthlib<0.5,>=0.4.1 in /home/michal/.local/lib/python3.10/site-packages (from tensorboard<2.12,>=2.11->tensorflow) (0.4.6)\n",
      "Requirement already satisfied: google-auth<3,>=1.6.3 in /home/michal/.local/lib/python3.10/site-packages (from tensorboard<2.12,>=2.11->tensorflow) (2.16.0)\n",
      "Requirement already satisfied: tensorboard-data-server<0.7.0,>=0.6.0 in /home/michal/.local/lib/python3.10/site-packages (from tensorboard<2.12,>=2.11->tensorflow) (0.6.1)\n",
      "Requirement already satisfied: werkzeug>=1.0.1 in /home/michal/.local/lib/python3.10/site-packages (from tensorboard<2.12,>=2.11->tensorflow) (2.2.2)\n",
      "Requirement already satisfied: tensorboard-plugin-wit>=1.6.0 in /home/michal/.local/lib/python3.10/site-packages (from tensorboard<2.12,>=2.11->tensorflow) (1.8.1)\n",
      "Requirement already satisfied: nvidia-cublas-cu117 in /home/michal/.local/lib/python3.10/site-packages (from nvidia-cublas-cu11->nvidia-tensorrt) (11.10.1.25)\n",
      "Requirement already satisfied: nvidia-cuda-runtime-cu117 in /home/michal/.local/lib/python3.10/site-packages (from nvidia-cuda-runtime-cu11->nvidia-tensorrt) (11.7.60)\n",
      "Requirement already satisfied: nvidia-cudnn-cu116 in /home/michal/.local/lib/python3.10/site-packages (from nvidia-cudnn-cu11->nvidia-tensorrt) (8.4.0.27)\n",
      "Requirement already satisfied: cachetools<6.0,>=2.0.0 in /home/michal/.local/lib/python3.10/site-packages (from google-auth<3,>=1.6.3->tensorboard<2.12,>=2.11->tensorflow) (5.2.1)\n",
      "Requirement already satisfied: pyasn1-modules>=0.2.1 in /home/michal/.local/lib/python3.10/site-packages (from google-auth<3,>=1.6.3->tensorboard<2.12,>=2.11->tensorflow) (0.2.8)\n",
      "Requirement already satisfied: rsa<5,>=3.1.4 in /home/michal/.local/lib/python3.10/site-packages (from google-auth<3,>=1.6.3->tensorboard<2.12,>=2.11->tensorflow) (4.9)\n",
      "Requirement already satisfied: requests-oauthlib>=0.7.0 in /home/michal/.local/lib/python3.10/site-packages (from google-auth-oauthlib<0.5,>=0.4.1->tensorboard<2.12,>=2.11->tensorflow) (1.3.1)\n",
      "Requirement already satisfied: MarkupSafe>=2.1.1 in /home/michal/.local/lib/python3.10/site-packages (from werkzeug>=1.0.1->tensorboard<2.12,>=2.11->tensorflow) (2.1.1)\n",
      "Requirement already satisfied: pyasn1<0.5.0,>=0.4.6 in /home/michal/.local/lib/python3.10/site-packages (from pyasn1-modules>=0.2.1->google-auth<3,>=1.6.3->tensorboard<2.12,>=2.11->tensorflow) (0.4.8)\n",
      "Requirement already satisfied: oauthlib>=3.0.0 in /usr/lib/python3/dist-packages (from requests-oauthlib>=0.7.0->google-auth-oauthlib<0.5,>=0.4.1->tensorboard<2.12,>=2.11->tensorflow) (3.2.0)\n",
      "Defaulting to user installation because normal site-packages is not writeable\n",
      "Looking in indexes: https://pypi.org/simple, https://pypi.ngc.nvidia.com\n",
      "Looking in links: https://github.com/pytorch/TensorRT/releases/expanded_assets/v1.3.0\n",
      "Requirement already satisfied: torch-tensorrt==1.3.0 in /home/michal/.local/lib/python3.10/site-packages (1.3.0)\n",
      "Requirement already satisfied: tensorrt<8.6.0,>=8.5.1.7 in /home/michal/.local/lib/python3.10/site-packages (from torch-tensorrt==1.3.0) (8.5.2.2)\n",
      "Requirement already satisfied: torch<1.14.0,>=1.13.0 in /home/michal/.local/lib/python3.10/site-packages (from torch-tensorrt==1.3.0) (1.13.1+cu116)\n",
      "Requirement already satisfied: nvidia-cuda-runtime-cu11 in /home/michal/.local/lib/python3.10/site-packages (from tensorrt<8.6.0,>=8.5.1.7->torch-tensorrt==1.3.0) (2022.4.25)\n",
      "Requirement already satisfied: nvidia-cublas-cu11 in /home/michal/.local/lib/python3.10/site-packages (from tensorrt<8.6.0,>=8.5.1.7->torch-tensorrt==1.3.0) (2022.4.8)\n",
      "Requirement already satisfied: nvidia-cudnn-cu11 in /home/michal/.local/lib/python3.10/site-packages (from tensorrt<8.6.0,>=8.5.1.7->torch-tensorrt==1.3.0) (2022.5.19)\n",
      "Requirement already satisfied: typing-extensions in /home/michal/.local/lib/python3.10/site-packages (from torch<1.14.0,>=1.13.0->torch-tensorrt==1.3.0) (4.4.0)\n",
      "Requirement already satisfied: nvidia-cublas-cu117 in /home/michal/.local/lib/python3.10/site-packages (from nvidia-cublas-cu11->tensorrt<8.6.0,>=8.5.1.7->torch-tensorrt==1.3.0) (11.10.1.25)\n",
      "Requirement already satisfied: nvidia-cuda-runtime-cu117 in /home/michal/.local/lib/python3.10/site-packages (from nvidia-cuda-runtime-cu11->tensorrt<8.6.0,>=8.5.1.7->torch-tensorrt==1.3.0) (11.7.60)\n",
      "Requirement already satisfied: nvidia-cudnn-cu116 in /home/michal/.local/lib/python3.10/site-packages (from nvidia-cudnn-cu11->tensorrt<8.6.0,>=8.5.1.7->torch-tensorrt==1.3.0) (8.4.0.27)\n",
      "Requirement already satisfied: setuptools in /usr/lib/python3/dist-packages (from nvidia-cublas-cu117->nvidia-cublas-cu11->tensorrt<8.6.0,>=8.5.1.7->torch-tensorrt==1.3.0) (59.6.0)\n",
      "Requirement already satisfied: wheel in /usr/lib/python3/dist-packages (from nvidia-cublas-cu117->nvidia-cublas-cu11->tensorrt<8.6.0,>=8.5.1.7->torch-tensorrt==1.3.0) (0.37.1)\n",
      "Defaulting to user installation because normal site-packages is not writeable\n",
      "Looking in indexes: https://pypi.org/simple, https://pypi.ngc.nvidia.com\n",
      "Collecting git+https://github.com/LukeTonin/simple-deep-learning\n",
      "  Cloning https://github.com/LukeTonin/simple-deep-learning to /tmp/pip-req-build-h3upvkst\n",
      "  Running command git clone --filter=blob:none --quiet https://github.com/LukeTonin/simple-deep-learning /tmp/pip-req-build-h3upvkst\n",
      "  Resolved https://github.com/LukeTonin/simple-deep-learning to commit 18005bf4cfe0d67470a0b80b763fb0565c8cfcac\n",
      "  Preparing metadata (setup.py) ... \u001b[?25ldone\n",
      "\u001b[?25h"
     ]
    }
   ],
   "source": [
    "! pip install nvidia-pyindex nvidia-tensorrt tensorflow\n",
    "! pip install torch-tensorrt==1.3.0 --find-links https://github.com/pytorch/TensorRT/releases/expanded_assets/v1.3.0\n",
    "! pip install git+https://github.com/LukeTonin/simple-deep-learning --no-deps"
   ]
  },
  {
   "cell_type": "code",
   "execution_count": 2,
   "metadata": {
    "vscode": {
     "languageId": "python"
    }
   },
   "outputs": [
    {
     "name": "stderr",
     "output_type": "stream",
     "text": [
      "2023-01-19 14:40:21.058929: I tensorflow/core/platform/cpu_feature_guard.cc:193] This TensorFlow binary is optimized with oneAPI Deep Neural Network Library (oneDNN) to use the following CPU instructions in performance-critical operations:  AVX2 FMA\n",
      "To enable them in other operations, rebuild TensorFlow with the appropriate compiler flags.\n",
      "2023-01-19 14:40:22.698925: W tensorflow/compiler/xla/stream_executor/platform/default/dso_loader.cc:64] Could not load dynamic library 'libnvinfer.so.7'; dlerror: libnvinfer.so.7: cannot open shared object file: No such file or directory\n",
      "2023-01-19 14:40:22.699081: W tensorflow/compiler/xla/stream_executor/platform/default/dso_loader.cc:64] Could not load dynamic library 'libnvinfer_plugin.so.7'; dlerror: libnvinfer_plugin.so.7: cannot open shared object file: No such file or directory\n",
      "2023-01-19 14:40:22.699100: W tensorflow/compiler/tf2tensorrt/utils/py_utils.cc:38] TF-TRT Warning: Cannot dlopen some TensorRT libraries. If you would like to use Nvidia GPU with TensorRT, please make sure the missing libraries mentioned above are installed properly.\n"
     ]
    }
   ],
   "source": [
    "from simple_deep_learning.mnist_extended.semantic_segmentation import create_semantic_segmentation_dataset\n",
    "import matplotlib.pyplot as plt\n",
    "import numpy as np\n",
    "import torch\n",
    "import local_utils as lu"
   ]
  },
  {
   "cell_type": "code",
   "execution_count": 3,
   "metadata": {
    "vscode": {
     "languageId": "python"
    }
   },
   "outputs": [
    {
     "name": "stdout",
     "output_type": "stream",
     "text": [
      "cuda\n"
     ]
    }
   ],
   "source": [
    "BATCH_SIZE = 32\n",
    "NUM_OF_CLASSES = 10\n",
    "NUM_OF_TRAINING_SAMPLES = BATCH_SIZE * 32\n",
    "NUM_OF_TEST_SAMPLES = BATCH_SIZE * 4\n",
    "INPUT_WIDTH = 64\n",
    "INPUT_HEIGHT = 64\n",
    "INPUT_CHANNELS = 1\n",
    "device = torch.device('cuda') if torch.cuda.is_available() else torch.device('cpu')\n",
    "print(device)"
   ]
  },
  {
   "cell_type": "code",
   "execution_count": 4,
   "metadata": {
    "vscode": {
     "languageId": "python"
    }
   },
   "outputs": [
    {
     "name": "stdout",
     "output_type": "stream",
     "text": [
      "torch.Size([1024, 10, 64, 64])\n",
      "torch.Size([1024, 1, 64, 64])\n",
      "torch.Size([128, 10, 64, 64])\n",
      "torch.Size([128, 1, 64, 64])\n"
     ]
    }
   ],
   "source": [
    "np.random.seed(0)\n",
    "train_x, train_y, _, _ = create_semantic_segmentation_dataset(NUM_OF_TRAINING_SAMPLES, 1, (INPUT_WIDTH, INPUT_HEIGHT), 2, 9, NUM_OF_CLASSES, 0.1)\n",
    "np.random.seed(5)\n",
    "_, _, test_x, test_y = create_semantic_segmentation_dataset(1, NUM_OF_TEST_SAMPLES, (INPUT_WIDTH, INPUT_HEIGHT), 2, 9, NUM_OF_CLASSES, 0.1)\n",
    "train_x = torch.from_numpy(np.moveaxis(train_x,-1, 1)).to(torch.float32)\n",
    "train_y = torch.from_numpy(np.moveaxis(train_y,-1, 1)).to(torch.float32)\n",
    "test_x = torch.from_numpy(np.moveaxis(test_x,-1, 1)).to(torch.float32)\n",
    "test_y = torch.from_numpy(np.moveaxis(test_y,-1, 1)).to(torch.float32)\n",
    "print(train_y.shape)\n",
    "print(train_x.shape)\n",
    "print(test_y.shape)\n",
    "print(test_x.shape)\n",
    "\n",
    "train_loader = lu.CustomDataLoader(train_x, train_y, batch_size=BATCH_SIZE)\n",
    "test_loader = lu.CustomDataLoader(test_x, test_y, batch_size=BATCH_SIZE)\n",
    "eval_loader = lu.CustomDataLoader(test_x, test_y, batch_size=1)"
   ]
  },
  {
   "cell_type": "code",
   "execution_count": 5,
   "metadata": {
    "vscode": {
     "languageId": "python"
    }
   },
   "outputs": [
    {
     "data": {
      "image/png": "[encoded data removed]",
      "text/plain": [
       "<Figure size 640x480 with 1 Axes>"
      ]
     },
     "metadata": {},
     "output_type": "display_data"
    },
    {
     "data": {
      "image/png": "[encoded data removed]",
      "text/plain": [
       "<Figure size 2000x200 with 10 Axes>"
      ]
     },
     "metadata": {},
     "output_type": "display_data"
    },
    {
     "data": {
      "image/png": "[encoded data removed]",
      "text/plain": [
       "<Figure size 640x480 with 1 Axes>"
      ]
     },
     "metadata": {},
     "output_type": "display_data"
    },
    {
     "data": {
      "image/png": "[encoded data removed]",
      "text/plain": [
       "<Figure size 2000x200 with 10 Axes>"
      ]
     },
     "metadata": {},
     "output_type": "display_data"
    },
    {
     "data": {
      "image/png": "[encoded data removed]",
      "text/plain": [
       "<Figure size 640x480 with 1 Axes>"
      ]
     },
     "metadata": {},
     "output_type": "display_data"
    },
    {
     "data": {
      "image/png": "[encoded data removed]",
      "text/plain": [
       "<Figure size 2000x200 with 10 Axes>"
      ]
     },
     "metadata": {},
     "output_type": "display_data"
    },
    {
     "data": {
      "image/png": "[encoded data removed]",
      "text/plain": [
       "<Figure size 640x480 with 1 Axes>"
      ]
     },
     "metadata": {},
     "output_type": "display_data"
    },
    {
     "data": {
      "image/png": "[encoded data removed]",
      "text/plain": [
       "<Figure size 2000x200 with 10 Axes>"
      ]
     },
     "metadata": {},
     "output_type": "display_data"
    }
   ],
   "source": [
    "for X, Y in train_loader:\n",
    "    for i in range(min(4, train_loader.batch_size)):\n",
    "        plt.gray()\n",
    "        plt.imshow(X[i][0])\n",
    "        plt.show()\n",
    "        fig, axes = plt.subplots(1, Y[i].shape[0], figsize=(20,2))\n",
    "        axes = np.array(axes).flatten().tolist()\n",
    "        for cls, (a, y) in enumerate(zip(axes, Y[i])):\n",
    "            a.imshow(y)\n",
    "            a.set_title(str(cls))\n",
    "        plt.show()\n",
    "    break"
   ]
  },
  {
   "cell_type": "code",
   "execution_count": 6,
   "metadata": {
    "vscode": {
     "languageId": "python"
    }
   },
   "outputs": [],
   "source": [
    "criterion = lu.BinaryCrossEntropyLoss(1)\n",
    "metric = lu.BinaryAccuracy()\n",
    "\n",
    "# DEFINE HERE YOUR MODEL :)\n",
    "net = lu.UNet(INPUT_CHANNELS, NUM_OF_CLASSES, True)\n",
    "# net = lu.SimpleSegmenter((INPUT_CHANNELS, INPUT_HEIGHT, INPUT_WIDTH), num_of_classes=NUM_OF_CLASSES)\n",
    "optimizer = torch.optim.Adam(net.parameters(), lr=0.0001)"
   ]
  },
  {
   "cell_type": "code",
   "execution_count": 7,
   "metadata": {
    "vscode": {
     "languageId": "python"
    }
   },
   "outputs": [
    {
     "name": "stdout",
     "output_type": "stream",
     "text": [
      "Epoch 1 / 60: STARTED\n",
      "TRAINING\n",
      "Running on platform: Linux-5.15.0-58-generic-x86_64-with-glibc2.35, machine: x86_64, python_version: 3.10.6, processor: x86_64, system: Linux, \n"
     ]
    },
    {
     "name": "stderr",
     "output_type": "stream",
     "text": [
      "100%|██████████| 32/32 [00:28<00:00,  1.12it/s]\n"
     ]
    },
    {
     "name": "stdout",
     "output_type": "stream",
     "text": [
      "VALIDATION\n",
      "Running on platform: Linux-5.15.0-58-generic-x86_64-with-glibc2.35, machine: x86_64, python_version: 3.10.6, processor: x86_64, system: Linux, \n"
     ]
    },
    {
     "name": "stderr",
     "output_type": "stream",
     "text": [
      "100%|██████████| 4/4 [00:00<00:00,  7.42it/s]\n"
     ]
    },
    {
     "name": "stdout",
     "output_type": "stream",
     "text": [
      "After epoch 1: loss=0.7078 metric=0.6411 val_loss=0.6780 val_metric=0.7463\n",
      "Epoch 1 / 60: FINISHED\n",
      "\n",
      "Epoch 2 / 60: STARTED\n",
      "TRAINING\n",
      "Running on platform: Linux-5.15.0-58-generic-x86_64-with-glibc2.35, machine: x86_64, python_version: 3.10.6, processor: x86_64, system: Linux, \n"
     ]
    },
    {
     "name": "stderr",
     "output_type": "stream",
     "text": [
      "100%|██████████| 32/32 [00:26<00:00,  1.22it/s]\n"
     ]
    },
    {
     "name": "stdout",
     "output_type": "stream",
     "text": [
      "VALIDATION\n",
      "Running on platform: Linux-5.15.0-58-generic-x86_64-with-glibc2.35, machine: x86_64, python_version: 3.10.6, processor: x86_64, system: Linux, \n"
     ]
    },
    {
     "name": "stderr",
     "output_type": "stream",
     "text": [
      "100%|██████████| 4/4 [00:00<00:00,  7.54it/s]\n"
     ]
    },
    {
     "name": "stdout",
     "output_type": "stream",
     "text": [
      "After epoch 2: loss=0.6776 metric=0.7203 val_loss=0.6654 val_metric=0.7481\n",
      "Epoch 2 / 60: FINISHED\n",
      "\n",
      "Epoch 3 / 60: STARTED\n",
      "TRAINING\n",
      "Running on platform: Linux-5.15.0-58-generic-x86_64-with-glibc2.35, machine: x86_64, python_version: 3.10.6, processor: x86_64, system: Linux, \n"
     ]
    },
    {
     "name": "stderr",
     "output_type": "stream",
     "text": [
      "100%|██████████| 32/32 [00:26<00:00,  1.21it/s]\n"
     ]
    },
    {
     "name": "stdout",
     "output_type": "stream",
     "text": [
      "VALIDATION\n",
      "Running on platform: Linux-5.15.0-58-generic-x86_64-with-glibc2.35, machine: x86_64, python_version: 3.10.6, processor: x86_64, system: Linux, \n"
     ]
    },
    {
     "name": "stderr",
     "output_type": "stream",
     "text": [
      "100%|██████████| 4/4 [00:00<00:00,  7.60it/s]\n"
     ]
    },
    {
     "name": "stdout",
     "output_type": "stream",
     "text": [
      "After epoch 3: loss=0.6591 metric=0.7645 val_loss=0.6519 val_metric=0.7884\n",
      "Epoch 3 / 60: FINISHED\n",
      "\n",
      "Epoch 4 / 60: STARTED\n",
      "TRAINING\n",
      "Running on platform: Linux-5.15.0-58-generic-x86_64-with-glibc2.35, machine: x86_64, python_version: 3.10.6, processor: x86_64, system: Linux, \n"
     ]
    },
    {
     "name": "stderr",
     "output_type": "stream",
     "text": [
      "100%|██████████| 32/32 [00:25<00:00,  1.27it/s]\n"
     ]
    },
    {
     "name": "stdout",
     "output_type": "stream",
     "text": [
      "VALIDATION\n",
      "Running on platform: Linux-5.15.0-58-generic-x86_64-with-glibc2.35, machine: x86_64, python_version: 3.10.6, processor: x86_64, system: Linux, \n"
     ]
    },
    {
     "name": "stderr",
     "output_type": "stream",
     "text": [
      "100%|██████████| 4/4 [00:00<00:00,  8.03it/s]\n"
     ]
    },
    {
     "name": "stdout",
     "output_type": "stream",
     "text": [
      "After epoch 4: loss=0.6448 metric=0.8022 val_loss=0.6390 val_metric=0.8230\n",
      "Epoch 4 / 60: FINISHED\n",
      "\n",
      "Epoch 5 / 60: STARTED\n",
      "TRAINING\n",
      "Running on platform: Linux-5.15.0-58-generic-x86_64-with-glibc2.35, machine: x86_64, python_version: 3.10.6, processor: x86_64, system: Linux, \n"
     ]
    },
    {
     "name": "stderr",
     "output_type": "stream",
     "text": [
      "100%|██████████| 32/32 [00:25<00:00,  1.28it/s]\n"
     ]
    },
    {
     "name": "stdout",
     "output_type": "stream",
     "text": [
      "VALIDATION\n",
      "Running on platform: Linux-5.15.0-58-generic-x86_64-with-glibc2.35, machine: x86_64, python_version: 3.10.6, processor: x86_64, system: Linux, \n"
     ]
    },
    {
     "name": "stderr",
     "output_type": "stream",
     "text": [
      "100%|██████████| 4/4 [00:00<00:00,  8.06it/s]\n"
     ]
    },
    {
     "name": "stdout",
     "output_type": "stream",
     "text": [
      "After epoch 5: loss=0.6320 metric=0.8341 val_loss=0.6272 val_metric=0.8459\n",
      "Epoch 5 / 60: FINISHED\n",
      "\n",
      "Epoch 6 / 60: STARTED\n",
      "TRAINING\n",
      "Running on platform: Linux-5.15.0-58-generic-x86_64-with-glibc2.35, machine: x86_64, python_version: 3.10.6, processor: x86_64, system: Linux, \n"
     ]
    },
    {
     "name": "stderr",
     "output_type": "stream",
     "text": [
      "100%|██████████| 32/32 [00:24<00:00,  1.28it/s]\n"
     ]
    },
    {
     "name": "stdout",
     "output_type": "stream",
     "text": [
      "VALIDATION\n",
      "Running on platform: Linux-5.15.0-58-generic-x86_64-with-glibc2.35, machine: x86_64, python_version: 3.10.6, processor: x86_64, system: Linux, \n"
     ]
    },
    {
     "name": "stderr",
     "output_type": "stream",
     "text": [
      "100%|██████████| 4/4 [00:00<00:00,  7.79it/s]\n"
     ]
    },
    {
     "name": "stdout",
     "output_type": "stream",
     "text": [
      "After epoch 6: loss=0.6198 metric=0.8525 val_loss=0.6144 val_metric=0.8635\n",
      "Epoch 6 / 60: FINISHED\n",
      "\n",
      "Epoch 7 / 60: STARTED\n",
      "TRAINING\n",
      "Running on platform: Linux-5.15.0-58-generic-x86_64-with-glibc2.35, machine: x86_64, python_version: 3.10.6, processor: x86_64, system: Linux, \n"
     ]
    },
    {
     "name": "stderr",
     "output_type": "stream",
     "text": [
      "100%|██████████| 32/32 [00:25<00:00,  1.26it/s]\n"
     ]
    },
    {
     "name": "stdout",
     "output_type": "stream",
     "text": [
      "VALIDATION\n",
      "Running on platform: Linux-5.15.0-58-generic-x86_64-with-glibc2.35, machine: x86_64, python_version: 3.10.6, processor: x86_64, system: Linux, \n"
     ]
    },
    {
     "name": "stderr",
     "output_type": "stream",
     "text": [
      "100%|██████████| 4/4 [00:00<00:00,  8.15it/s]\n"
     ]
    },
    {
     "name": "stdout",
     "output_type": "stream",
     "text": [
      "After epoch 7: loss=0.6077 metric=0.8703 val_loss=0.6027 val_metric=0.8793\n",
      "Epoch 7 / 60: FINISHED\n",
      "\n",
      "Epoch 8 / 60: STARTED\n",
      "TRAINING\n",
      "Running on platform: Linux-5.15.0-58-generic-x86_64-with-glibc2.35, machine: x86_64, python_version: 3.10.6, processor: x86_64, system: Linux, \n"
     ]
    },
    {
     "name": "stderr",
     "output_type": "stream",
     "text": [
      "100%|██████████| 32/32 [00:25<00:00,  1.27it/s]\n"
     ]
    },
    {
     "name": "stdout",
     "output_type": "stream",
     "text": [
      "VALIDATION\n",
      "Running on platform: Linux-5.15.0-58-generic-x86_64-with-glibc2.35, machine: x86_64, python_version: 3.10.6, processor: x86_64, system: Linux, \n"
     ]
    },
    {
     "name": "stderr",
     "output_type": "stream",
     "text": [
      "100%|██████████| 4/4 [00:00<00:00,  8.01it/s]\n"
     ]
    },
    {
     "name": "stdout",
     "output_type": "stream",
     "text": [
      "After epoch 8: loss=0.5959 metric=0.8845 val_loss=0.5906 val_metric=0.8916\n",
      "Epoch 8 / 60: FINISHED\n",
      "\n",
      "Epoch 9 / 60: STARTED\n",
      "TRAINING\n",
      "Running on platform: Linux-5.15.0-58-generic-x86_64-with-glibc2.35, machine: x86_64, python_version: 3.10.6, processor: x86_64, system: Linux, \n"
     ]
    },
    {
     "name": "stderr",
     "output_type": "stream",
     "text": [
      " 84%|████████▍ | 27/32 [00:21<00:04,  1.24it/s]\n"
     ]
    },
    {
     "ename": "KeyboardInterrupt",
     "evalue": "",
     "output_type": "error",
     "traceback": [
      "\u001b[0;31m---------------------------------------------------------------------------\u001b[0m",
      "\u001b[0;31mKeyboardInterrupt\u001b[0m                         Traceback (most recent call last)",
      "Cell \u001b[0;32mIn[7], line 1\u001b[0m\n\u001b[0;32m----> 1\u001b[0m net, history \u001b[39m=\u001b[39m lu\u001b[39m.\u001b[39;49mtraining(net,\n\u001b[1;32m      2\u001b[0m                            train_loader,\n\u001b[1;32m      3\u001b[0m                            test_loader,\n\u001b[1;32m      4\u001b[0m                            criterion,\n\u001b[1;32m      5\u001b[0m                            metric,\n\u001b[1;32m      6\u001b[0m                            optimizer,\n\u001b[1;32m      7\u001b[0m                            update_period\u001b[39m=\u001b[39;49m\u001b[39m2\u001b[39;49m,\n\u001b[1;32m      8\u001b[0m                            epoch_max\u001b[39m=\u001b[39;49m\u001b[39m60\u001b[39;49m,\n\u001b[1;32m      9\u001b[0m                            device\u001b[39m=\u001b[39;49mdevice)\n\u001b[1;32m     10\u001b[0m lu\u001b[39m.\u001b[39mplot_history(history)\n",
      "File \u001b[0;32m/media/michal/HDD_Linux_2/DYDAKTYKA/EmbeddedAI/project/local_utils.py:209\u001b[0m, in \u001b[0;36mtraining\u001b[0;34m(model, train_loader, test_loader, loss_fcn, metric, optimizer, update_period, epoch_max, device)\u001b[0m\n\u001b[1;32m    207\u001b[0m \u001b[39mprint\u001b[39m(\u001b[39mf\u001b[39m\u001b[39m'\u001b[39m\u001b[39mEpoch \u001b[39m\u001b[39m{\u001b[39;00mepoch\u001b[39m}\u001b[39;00m\u001b[39m / \u001b[39m\u001b[39m{\u001b[39;00mepoch_max\u001b[39m}\u001b[39;00m\u001b[39m: STARTED\u001b[39m\u001b[39m'\u001b[39m)\n\u001b[1;32m    208\u001b[0m \u001b[39mprint\u001b[39m(\u001b[39m'\u001b[39m\u001b[39mTRAINING\u001b[39m\u001b[39m'\u001b[39m)\n\u001b[0;32m--> 209\u001b[0m net, loss, metric_value \u001b[39m=\u001b[39m train_test_pass(model,\n\u001b[1;32m    210\u001b[0m                                  train_loader,\n\u001b[1;32m    211\u001b[0m                                  loss_fcn,\n\u001b[1;32m    212\u001b[0m                                  metric,\n\u001b[1;32m    213\u001b[0m                                  optimizer,\n\u001b[1;32m    214\u001b[0m                                  update_period\u001b[39m=\u001b[39;49mupdate_period,\n\u001b[1;32m    215\u001b[0m                                  mode\u001b[39m=\u001b[39;49m\u001b[39m'\u001b[39;49m\u001b[39mtrain\u001b[39;49m\u001b[39m'\u001b[39;49m,\n\u001b[1;32m    216\u001b[0m                                  device\u001b[39m=\u001b[39;49mdevice)\n\u001b[1;32m    217\u001b[0m loss_train\u001b[39m.\u001b[39mappend(loss)\n\u001b[1;32m    218\u001b[0m metric_train\u001b[39m.\u001b[39mappend(metric_value)\n",
      "File \u001b[0;32m/media/michal/HDD_Linux_2/DYDAKTYKA/EmbeddedAI/project/local_utils.py:163\u001b[0m, in \u001b[0;36mtrain_test_pass\u001b[0;34m(model, data_generator, criterion, metric, optimizer, update_period, mode, device, repeat)\u001b[0m\n\u001b[1;32m    160\u001b[0m \u001b[39m# calculate metric\u001b[39;00m\n\u001b[1;32m    161\u001b[0m metric_value \u001b[39m=\u001b[39m metric(y_pred, y_ref)\n\u001b[0;32m--> 163\u001b[0m total_loss \u001b[39m+\u001b[39m\u001b[39m=\u001b[39m loss\u001b[39m.\u001b[39;49mitem() \u001b[39m*\u001b[39m y_pred\u001b[39m.\u001b[39mshape[\u001b[39m0\u001b[39m]\n\u001b[1;32m    164\u001b[0m total_metric \u001b[39m+\u001b[39m\u001b[39m=\u001b[39m metric_value\u001b[39m.\u001b[39mitem() \u001b[39m*\u001b[39m y_pred\u001b[39m.\u001b[39mshape[\u001b[39m0\u001b[39m]\n\u001b[1;32m    165\u001b[0m samples_num \u001b[39m+\u001b[39m\u001b[39m=\u001b[39m y_pred\u001b[39m.\u001b[39mshape[\u001b[39m0\u001b[39m]\n",
      "\u001b[0;31mKeyboardInterrupt\u001b[0m: "
     ]
    }
   ],
   "source": [
    "net, history = lu.training(net,\n",
    "                           train_loader,\n",
    "                           test_loader,\n",
    "                           criterion,\n",
    "                           metric,\n",
    "                           optimizer,\n",
    "                           update_period=2,\n",
    "                           epoch_max=60,\n",
    "                           device=device)\n",
    "lu.plot_history(history)"
   ]
  },
  {
   "cell_type": "code",
   "execution_count": null,
   "metadata": {
    "vscode": {
     "languageId": "python"
    }
   },
   "outputs": [],
   "source": [
    "def evaluate(model, dtype=None, device=None, repeat=30):\n",
    "    \n",
    "    tm = lu.TimeMeasurement(\"\", len(eval_loader) * eval_loader.batch_size * repeat)\n",
    "    eval_loader.data = eval_loader.data.to(dtype).to(device)\n",
    "    eval_loader.labels = eval_loader.labels.to(dtype).to(device)\n",
    "    \n",
    "    with tm:\n",
    "        net, loss, acc = lu.train_test_pass(model,\n",
    "                                            eval_loader,\n",
    "                                            criterion,\n",
    "                                            metric,\n",
    "                                            optimizer=None,\n",
    "                                            update_period=None,\n",
    "                                            mode='test',\n",
    "                                            device=device,\n",
    "                                            repeat=repeat)\n",
    "    print(\"loss =\", loss)\n",
    "    print(\"loss =\", acc)\n",
    "    print(str(tm))"
   ]
  },
  {
   "cell_type": "code",
   "execution_count": null,
   "metadata": {
    "vscode": {
     "languageId": "python"
    }
   },
   "outputs": [],
   "source": [
    "for X, Y in train_loader:\n",
    "    net.eval()\n",
    "    with torch.no_grad():\n",
    "        Y_pred = net(X.to(device)).cpu()\n",
    "    for i in range(min(8, train_loader.batch_size)):\n",
    "        plt.gray()\n",
    "        plt.imshow(X[i][0])\n",
    "        plt.show()\n",
    "        fig, axes = plt.subplots(1, Y[i].shape[0], figsize=(20,2))\n",
    "        axes = np.array(axes).flatten().tolist()\n",
    "        for cls, (a, y) in enumerate(zip(axes, Y[i])):\n",
    "            a.imshow(y)\n",
    "            a.set_title(str(cls))\n",
    "        plt.show()\n",
    "        fig, axes = plt.subplots(1, Y_pred[i].shape[0], figsize=(20,2))\n",
    "        axes = np.array(axes).flatten().tolist()\n",
    "        for cls, (a, y) in enumerate(zip(axes, Y_pred[i])):\n",
    "            a.imshow(y)\n",
    "            a.set_title(str(cls))\n",
    "        plt.show()\n",
    "    break"
   ]
  },
  {
   "cell_type": "code",
   "execution_count": null,
   "metadata": {
    "vscode": {
     "languageId": "python"
    }
   },
   "outputs": [],
   "source": [
    "model = net"
   ]
  },
  {
   "attachments": {},
   "cell_type": "markdown",
   "metadata": {},
   "source": [
    "### Basic PyTorch"
   ]
  },
  {
   "cell_type": "code",
   "execution_count": null,
   "metadata": {
    "vscode": {
     "languageId": "python"
    }
   },
   "outputs": [],
   "source": [
    "evaluate(net, torch.float32, \"cuda\")"
   ]
  },
  {
   "attachments": {},
   "cell_type": "markdown",
   "metadata": {},
   "source": [
    "### Trace model"
   ]
  },
  {
   "cell_type": "code",
   "execution_count": null,
   "metadata": {
    "vscode": {
     "languageId": "python"
    }
   },
   "outputs": [],
   "source": [
    "traced_model = torch.jit.trace(model, torch.empty([1,1,32,32]).to(\"cuda\"))\n",
    "traced_model"
   ]
  },
  {
   "cell_type": "code",
   "execution_count": null,
   "metadata": {
    "vscode": {
     "languageId": "python"
    }
   },
   "outputs": [],
   "source": [
    "evaluate(traced_model, device=torch.device('cuda'))"
   ]
  },
  {
   "attachments": {},
   "cell_type": "markdown",
   "metadata": {},
   "source": [
    "### Script model"
   ]
  },
  {
   "cell_type": "code",
   "execution_count": null,
   "metadata": {
    "vscode": {
     "languageId": "python"
    }
   },
   "outputs": [],
   "source": [
    "script_model = torch.jit.script(model)\n",
    "script_model"
   ]
  },
  {
   "cell_type": "code",
   "execution_count": null,
   "metadata": {
    "vscode": {
     "languageId": "python"
    }
   },
   "outputs": [],
   "source": [
    "evaluate(script_model)"
   ]
  },
  {
   "attachments": {},
   "cell_type": "markdown",
   "metadata": {},
   "source": [
    "### Compile with Tensor-RT"
   ]
  },
  {
   "cell_type": "code",
   "execution_count": null,
   "metadata": {
    "vscode": {
     "languageId": "python"
    }
   },
   "outputs": [],
   "source": [
    "import torch_tensorrt\n",
    "\n",
    "dtype = torch.float32\n",
    "# We use a batch-size of 1024, and half precision\n",
    "trt_ts_module = torch_tensorrt.compile(traced_model, inputs=[\n",
    "    torch_tensorrt.Input((1, INPUT_CHANNELS, INPUT_HEIGHT, INPUT_WIDTH),dtype=torch.float32\n",
    "    )], \n",
    "    enabled_precisions = {dtype})\n",
    "\n",
    "input_data = torch.randn((1, INPUT_CHANNELS, INPUT_HEIGHT, INPUT_WIDTH))\n",
    "input_data = input_data.to(dtype).to(\"cuda\")\n",
    "\n",
    "input_data = input_data.to(dtype)\n",
    "result = trt_ts_module(input_data)\n",
    "torch.jit.save(trt_ts_module, \"trt_ts_module.ts\")"
   ]
  },
  {
   "cell_type": "code",
   "execution_count": null,
   "metadata": {
    "vscode": {
     "languageId": "python"
    }
   },
   "outputs": [],
   "source": [
    "evaluate(trt_ts_module, dtype, \"cuda\")"
   ]
  },
  {
   "attachments": {},
   "cell_type": "markdown",
   "metadata": {},
   "source": [
    "## PTQ"
   ]
  },
  {
   "cell_type": "code",
   "execution_count": null,
   "metadata": {
    "vscode": {
     "languageId": "python"
    }
   },
   "outputs": [],
   "source": [
    "# NOT SUPPORTED ON HOST DEVICE\n",
    "# calibrator = torch_tensorrt.ptq.DataLoaderCalibrator(eval_loader,\n",
    "#                                                      use_cache=False,\n",
    "#                                                      algo_type=torch_tensorrt.ptq.CalibrationAlgo.MINMAX_CALIBRATION,\n",
    "#                                                      device=torch.device('cuda:0'))\n",
    "# compile_spec = {\n",
    "#          \"inputs\": [torch_tensorrt.Input([1, INPUT_CHANNELS, INPUT_HEIGHT, INPUT_WIDTH])],\n",
    "#          \"enabled_precisions\": torch.int8,\n",
    "#          \"calibrator\": calibrator,\n",
    "#          \"truncate_long_and_double\": True\n",
    "         \n",
    "#      }\n",
    "# trt_ptq = torch_tensorrt.compile(model, **compile_spec)\n"
   ]
  },
  {
   "cell_type": "code",
   "execution_count": null,
   "metadata": {
    "vscode": {
     "languageId": "python"
    }
   },
   "outputs": [],
   "source": [
    "# evaluate(trt_ptq, None, \"cuda:0\")"
   ]
  }
 ],
 "metadata": {
  "kernelspec": {
   "display_name": "Python 3 (ipykernel)",
   "language": "python",
   "name": "python3"
  },
  "orig_nbformat": 4,
  "vscode": {
   "interpreter": {
    "hash": "767d51c1340bd893661ea55ea3124f6de3c7a262a8b4abca0554b478b1e2ff90"
   }
  }
 },
 "nbformat": 4,
 "nbformat_minor": 2
}
