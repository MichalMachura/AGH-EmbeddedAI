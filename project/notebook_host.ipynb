{
 "cells": [
  {
   "attachments": {},
   "cell_type": "markdown",
   "metadata": {},
   "source": [
    "## TensorRT\n",
    "TensorRT is a library delivered by NVIDIA.\n",
    "It allows for efficient inference computation of neural networks models.\n",
    "Library delivers many tools like model optimization or pruning.\n",
    "Access to mentioned functionality is available for may popular DNN frameworks like PyTorch or Tensor-Flow.\n",
    "\n",
    "Presented notebook shows usage of library on the example of semantic segmentation.\n",
    "\n",
    "The goal of semantic segmentation is to assign a class (in some cases classes) for each pixel of image.\n",
    "\n",
    "Pixels that are the part of the object(s) of the same type/class should have the same class.\n",
    "\n",
    "For that task for a single image we need to assign array of the same size with class ids or \n",
    "\n",
    "n boolean arrays - each represents separate class.     \n",
    "\n",
    "Your task is to design Deep Neural Network architecture to achieve \n",
    "Binary Accuracy metric higher than 0.99 on validation dataset."
   ]
  },
  {
   "attachments": {},
   "cell_type": "markdown",
   "metadata": {},
   "source": [
    "Install required packages (if not installed):"
   ]
  },
  {
   "cell_type": "code",
   "execution_count": null,
   "metadata": {},
   "outputs": [],
   "source": [
    "!pip install nvidia-pyindex nvidia-tensorrt tensorflow\n",
    "!pip install torch-tensorrt==1.3.0 --find-links https://github.com/pytorch/TensorRT/releases/expanded_assets/v1.3.0\n",
    "!pip install git+https://github.com/LukeTonin/simple-deep-learning --no-deps"
   ]
  },
  {
   "cell_type": "code",
   "execution_count": null,
   "metadata": {},
   "outputs": [],
   "source": [
    "from simple_deep_learning.mnist_extended.semantic_segmentation import create_semantic_segmentation_dataset\n",
    "import matplotlib.pyplot as plt\n",
    "import numpy as np\n",
    "import torch\n",
    "import local_utils as lu"
   ]
  },
  {
   "cell_type": "code",
   "execution_count": null,
   "metadata": {},
   "outputs": [],
   "source": [
    "BATCH_SIZE = 32\n",
    "NUM_OF_CLASSES = 10\n",
    "NUM_OF_TRAINING_SAMPLES = BATCH_SIZE * 32\n",
    "NUM_OF_TEST_SAMPLES = BATCH_SIZE * 4\n",
    "INPUT_WIDTH = 64\n",
    "INPUT_HEIGHT = 64\n",
    "INPUT_CHANNELS = 1\n",
    "device = torch.device('cuda') if torch.cuda.is_available() else torch.device('cpu')\n",
    "print(device)"
   ]
  },
  {
   "cell_type": "code",
   "execution_count": null,
   "metadata": {},
   "outputs": [],
   "source": [
    "np.random.seed(0)\n",
    "train_x, train_y, _, _ = create_semantic_segmentation_dataset(NUM_OF_TRAINING_SAMPLES, 1, (INPUT_WIDTH, INPUT_HEIGHT), 2, 9, NUM_OF_CLASSES, 0.1)\n",
    "np.random.seed(5)\n",
    "_, _, test_x, test_y = create_semantic_segmentation_dataset(1, NUM_OF_TEST_SAMPLES, (INPUT_WIDTH, INPUT_HEIGHT), 2, 9, NUM_OF_CLASSES, 0.1)\n",
    "train_x = torch.from_numpy(np.moveaxis(train_x,-1, 1)).to(torch.float32)\n",
    "train_y = torch.from_numpy(np.moveaxis(train_y,-1, 1)).to(torch.float32)\n",
    "test_x = torch.from_numpy(np.moveaxis(test_x,-1, 1)).to(torch.float32)\n",
    "test_y = torch.from_numpy(np.moveaxis(test_y,-1, 1)).to(torch.float32)\n",
    "print(train_y.shape)\n",
    "print(train_x.shape)\n",
    "print(test_y.shape)\n",
    "print(test_x.shape)\n",
    "\n",
    "train_loader = lu.CustomDataLoader(train_x, train_y, batch_size=BATCH_SIZE)\n",
    "test_loader = lu.CustomDataLoader(test_x, test_y, batch_size=BATCH_SIZE)\n",
    "eval_loader = lu.CustomDataLoader(test_x, test_y, batch_size=1)"
   ]
  },
  {
   "cell_type": "code",
   "execution_count": null,
   "metadata": {},
   "outputs": [],
   "source": [
    "for X, Y in train_loader:\n",
    "    for i in range(min(4, train_loader.batch_size)):\n",
    "        plt.gray()\n",
    "        plt.imshow(X[i][0])\n",
    "        plt.show()\n",
    "        fig, axes = plt.subplots(1, Y[i].shape[0], figsize=(20,2))\n",
    "        axes = np.array(axes).flatten().tolist()\n",
    "        for cls, (a, y) in enumerate(zip(axes, Y[i])):\n",
    "            a.imshow(y)\n",
    "            a.set_title(str(cls))\n",
    "        plt.show()\n",
    "    break"
   ]
  },
  {
   "cell_type": "code",
   "execution_count": null,
   "metadata": {},
   "outputs": [],
   "source": [
    "criterion = lu.BinaryCrossEntropyLoss(1)\n",
    "metric = lu.BinaryAccuracy()\n",
    "# net = lu.UNet(INPUT_CHANNELS, NUM_OF_CLASSES, True)\n",
    "net = lu.SimpleSegmenter((INPUT_CHANNELS, INPUT_HEIGHT, INPUT_WIDTH), num_of_classes=NUM_OF_CLASSES)\n",
    "optimizer = torch.optim.Adam(net.parameters(), lr=0.0001)"
   ]
  },
  {
   "cell_type": "code",
   "execution_count": null,
   "metadata": {},
   "outputs": [],
   "source": [
    "net, history = lu.training(net,\n",
    "                           train_loader,\n",
    "                           test_loader,\n",
    "                           criterion,\n",
    "                           metric,\n",
    "                           optimizer,\n",
    "                           update_period=2,\n",
    "                           epoch_max=60,\n",
    "                           device=device)\n",
    "lu.plot_history(history)"
   ]
  },
  {
   "cell_type": "code",
   "execution_count": null,
   "metadata": {},
   "outputs": [],
   "source": [
    "def evaluate(model, dtype=None, device=None, repeat=30):\n",
    "    \n",
    "    tm = lu.TimeMeasurement(\"\", len(eval_loader) * eval_loader.batch_size * repeat)\n",
    "    eval_loader.data = eval_loader.data.to(dtype).to(device)\n",
    "    eval_loader.labels = eval_loader.labels.to(dtype).to(device)\n",
    "    \n",
    "    with tm:\n",
    "        net, loss, acc = lu.train_test_pass(model,\n",
    "                                            eval_loader,\n",
    "                                            criterion,\n",
    "                                            metric,\n",
    "                                            optimizer=None,\n",
    "                                            update_period=None,\n",
    "                                            mode='test',\n",
    "                                            device=device,\n",
    "                                            repeat=repeat)\n",
    "    print(\"loss =\", loss)\n",
    "    print(\"loss =\", acc)\n",
    "    print(str(tm))"
   ]
  },
  {
   "cell_type": "code",
   "execution_count": null,
   "metadata": {},
   "outputs": [],
   "source": [
    "for X, Y in train_loader:\n",
    "    net.eval()\n",
    "    with torch.no_grad():\n",
    "        Y_pred = net(X.to(device)).cpu()\n",
    "    for i in range(min(8, train_loader.batch_size)):\n",
    "        plt.gray()\n",
    "        plt.imshow(X[i][0])\n",
    "        plt.show()\n",
    "        fig, axes = plt.subplots(1, Y[i].shape[0], figsize=(20,2))\n",
    "        axes = np.array(axes).flatten().tolist()\n",
    "        for cls, (a, y) in enumerate(zip(axes, Y[i])):\n",
    "            a.imshow(y)\n",
    "            a.set_title(str(cls))\n",
    "        plt.show()\n",
    "        fig, axes = plt.subplots(1, Y_pred[i].shape[0], figsize=(20,2))\n",
    "        axes = np.array(axes).flatten().tolist()\n",
    "        for cls, (a, y) in enumerate(zip(axes, Y_pred[i])):\n",
    "            a.imshow(y)\n",
    "            a.set_title(str(cls))\n",
    "        plt.show()\n",
    "    break"
   ]
  },
  {
   "cell_type": "code",
   "execution_count": null,
   "metadata": {},
   "outputs": [],
   "source": [
    "model = net"
   ]
  },
  {
   "attachments": {},
   "cell_type": "markdown",
   "metadata": {},
   "source": [
    "### Basic PyTorch"
   ]
  },
  {
   "cell_type": "code",
   "execution_count": null,
   "metadata": {},
   "outputs": [],
   "source": [
    "evaluate(net, torch.float32, \"cuda\")"
   ]
  },
  {
   "attachments": {},
   "cell_type": "markdown",
   "metadata": {},
   "source": [
    "### Trace model"
   ]
  },
  {
   "cell_type": "code",
   "execution_count": null,
   "metadata": {},
   "outputs": [],
   "source": [
    "traced_model = torch.jit.trace(model, torch.empty([1,1,32,32]).to(\"cuda\"))\n",
    "traced_model"
   ]
  },
  {
   "cell_type": "code",
   "execution_count": null,
   "metadata": {},
   "outputs": [],
   "source": [
    "evaluate(traced_model, device=torch.device('cuda'))"
   ]
  },
  {
   "attachments": {},
   "cell_type": "markdown",
   "metadata": {},
   "source": [
    "### Script model"
   ]
  },
  {
   "cell_type": "code",
   "execution_count": null,
   "metadata": {},
   "outputs": [],
   "source": [
    "script_model = torch.jit.script(model)\n",
    "script_model"
   ]
  },
  {
   "cell_type": "code",
   "execution_count": null,
   "metadata": {},
   "outputs": [],
   "source": [
    "evaluate(script_model)"
   ]
  },
  {
   "attachments": {},
   "cell_type": "markdown",
   "metadata": {},
   "source": [
    "### Compile with Tensor-RT"
   ]
  },
  {
   "cell_type": "code",
   "execution_count": null,
   "metadata": {},
   "outputs": [],
   "source": [
    "import torch_tensorrt\n",
    "\n",
    "dtype = torch.float32\n",
    "# We use a batch-size of 1024, and half precision\n",
    "trt_ts_module = torch_tensorrt.compile(traced_model, inputs=[\n",
    "    torch_tensorrt.Input((1, INPUT_CHANNELS, INPUT_HEIGHT, INPUT_WIDTH),dtype=torch.float32\n",
    "    )], \n",
    "    enabled_precisions = {dtype})\n",
    "\n",
    "input_data = torch.randn((1, INPUT_CHANNELS, INPUT_HEIGHT, INPUT_WIDTH))\n",
    "input_data = input_data.to(dtype).to(\"cuda\")\n",
    "\n",
    "input_data = input_data.to(dtype)\n",
    "result = trt_ts_module(input_data)\n",
    "torch.jit.save(trt_ts_module, \"trt_ts_module.ts\")"
   ]
  },
  {
   "cell_type": "code",
   "execution_count": null,
   "metadata": {},
   "outputs": [],
   "source": [
    "evaluate(trt_ts_module, dtype, \"cuda\")"
   ]
  },
  {
   "attachments": {},
   "cell_type": "markdown",
   "metadata": {},
   "source": [
    "## PTQ"
   ]
  },
  {
   "cell_type": "code",
   "execution_count": null,
   "metadata": {},
   "outputs": [],
   "source": [
    "# NOT SUPPORTED ON HOST DEVICE\n",
    "# calibrator = torch_tensorrt.ptq.DataLoaderCalibrator(eval_loader,\n",
    "#                                                      use_cache=False,\n",
    "#                                                      algo_type=torch_tensorrt.ptq.CalibrationAlgo.MINMAX_CALIBRATION,\n",
    "#                                                      device=torch.device('cuda:0'))\n",
    "# compile_spec = {\n",
    "#          \"inputs\": [torch_tensorrt.Input([1, INPUT_CHANNELS, INPUT_HEIGHT, INPUT_WIDTH])],\n",
    "#          \"enabled_precisions\": torch.int8,\n",
    "#          \"calibrator\": calibrator,\n",
    "#          \"truncate_long_and_double\": True\n",
    "         \n",
    "#      }\n",
    "# trt_ptq = torch_tensorrt.compile(model, **compile_spec)\n"
   ]
  },
  {
   "cell_type": "code",
   "execution_count": null,
   "metadata": {},
   "outputs": [],
   "source": [
    "evaluate(trt_ptq, None, \"cuda:0\")"
   ]
  }
 ],
 "metadata": {
  "kernelspec": {
   "display_name": "Python 3 (ipykernel)",
   "language": "python",
   "name": "python3"
  },
  "language_info": {
   "codemirror_mode": {
    "name": "ipython",
    "version": 3
   },
   "file_extension": ".py",
   "mimetype": "text/x-python",
   "name": "python",
   "nbconvert_exporter": "python",
   "pygments_lexer": "ipython3",
   "version": "3.10.6"
  },
  "orig_nbformat": 4,
  "vscode": {
   "interpreter": {
    "hash": "767d51c1340bd893661ea55ea3124f6de3c7a262a8b4abca0554b478b1e2ff90"
   }
  }
 },
 "nbformat": 4,
 "nbformat_minor": 2
}
